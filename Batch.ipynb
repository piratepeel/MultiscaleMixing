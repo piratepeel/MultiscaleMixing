{
 "cells": [
  {
   "cell_type": "code",
   "execution_count": 1,
   "id": "c1c594c1-e66d-4e50-86be-a09160806b9b",
   "metadata": {},
   "outputs": [],
   "source": [
    "from datetime import datetime\n",
    "from lassort import load, localAssortF\n",
    "import numpy as np"
   ]
  },
  {
   "cell_type": "code",
   "execution_count": 3,
   "id": "c6704c35-f1c0-49cc-b852-adf093fd87e9",
   "metadata": {},
   "outputs": [
    {
     "name": "stdout",
     "output_type": "stream",
     "text": [
      "Ran multiscale mixing for attribute 1 in 6.455181 seconds.\n",
      "Ran multiscale mixing for attribute 2 in 7.242667 seconds.\n",
      "Ran multiscale mixing for attribute 3 in 8.76179 seconds.\n",
      "Ran multiscale mixing for attribute 4 in 7.974282 seconds.\n",
      "Ran multiscale mixing for attribute 5 in 7.12952 seconds.\n"
     ]
    }
   ],
   "source": [
    "networkfile = '../../problem_sets/2/facebook100txt/Reed98.txt'\n",
    "metadatafile = '../../problem_sets/2/facebook100txt/Reed98_attr.txt'\n",
    "\n",
    "\n",
    "Ms = []\n",
    "Ts = []\n",
    "Zs = []\n",
    "\n",
    "for col in range(1,6):\n",
    "    start = datetime.now()\n",
    "    E, M = load(\n",
    "        networkfile, \n",
    "        metadatafile, \n",
    "        zero_index=1, \n",
    "        meta_col=col,\n",
    "        header=True,\n",
    "        reindex=True,\n",
    "        missing_value=0\n",
    "    )\n",
    "    \n",
    "    assortM, assortT, Z = localAssortF(E,M,pr=np.arange(0,1,0.1))\n",
    "    Ms.append(assortM)\n",
    "    Ts.append(assortT)\n",
    "    Zs.append(Z)\n",
    "    end = datetime.now()\n",
    "    print(f\"Ran multiscale mixing for attribute {col} in {(end-start).total_seconds()} seconds.\")"
   ]
  },
  {
   "cell_type": "code",
   "execution_count": null,
   "id": "023bcc1b-62b5-4bf5-8592-7d5142bcd9ca",
   "metadata": {},
   "outputs": [],
   "source": []
  },
  {
   "cell_type": "code",
   "execution_count": null,
   "id": "40c89fe3-ef93-486f-af87-51dd159eeb45",
   "metadata": {},
   "outputs": [],
   "source": []
  },
  {
   "cell_type": "code",
   "execution_count": null,
   "id": "77cdea43-5380-4e89-b2be-1eb78d4a9bb5",
   "metadata": {},
   "outputs": [],
   "source": []
  },
  {
   "cell_type": "code",
   "execution_count": null,
   "id": "aea77612-113a-4851-80d4-ff1b708cdc95",
   "metadata": {},
   "outputs": [],
   "source": []
  },
  {
   "cell_type": "code",
   "execution_count": null,
   "id": "3dffcbc1-64ff-4f9f-98f4-7fc0d7ddcd9e",
   "metadata": {},
   "outputs": [],
   "source": []
  },
  {
   "cell_type": "code",
   "execution_count": null,
   "id": "18eca806-ad1b-4122-b17c-5d7915506dd1",
   "metadata": {},
   "outputs": [],
   "source": []
  },
  {
   "cell_type": "code",
   "execution_count": null,
   "id": "2734f8b4-330e-4069-9ae9-2a248f55ff36",
   "metadata": {},
   "outputs": [],
   "source": []
  },
  {
   "cell_type": "code",
   "execution_count": null,
   "id": "f085d6f6-db87-4e74-9f8d-a8a2055db4fa",
   "metadata": {},
   "outputs": [],
   "source": []
  },
  {
   "cell_type": "code",
   "execution_count": null,
   "id": "a03b1a52-95c9-43ac-8ddf-440942e7ab5e",
   "metadata": {},
   "outputs": [],
   "source": []
  }
 ],
 "metadata": {
  "kernelspec": {
   "display_name": "Python 3",
   "language": "python",
   "name": "python3"
  },
  "language_info": {
   "codemirror_mode": {
    "name": "ipython",
    "version": 3
   },
   "file_extension": ".py",
   "mimetype": "text/x-python",
   "name": "python",
   "nbconvert_exporter": "python",
   "pygments_lexer": "ipython3",
   "version": "3.9.5"
  }
 },
 "nbformat": 4,
 "nbformat_minor": 5
}
