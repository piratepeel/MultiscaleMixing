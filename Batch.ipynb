{
 "cells": [
  {
   "cell_type": "code",
   "execution_count": 1,
   "id": "c1c594c1-e66d-4e50-86be-a09160806b9b",
   "metadata": {},
   "outputs": [],
   "source": [
    "from datetime import datetime\n",
    "from lassort import load, localAssortF\n",
    "import numpy as np"
   ]
  },
  {
   "cell_type": "code",
   "execution_count": 3,
   "id": "c6704c35-f1c0-49cc-b852-adf093fd87e9",
   "metadata": {},
   "outputs": [
    {
     "name": "stdout",
     "output_type": "stream",
     "text": [
      "Ran multiscale mixing for attribute 1 in 6.455181 seconds.\n",
      "Ran multiscale mixing for attribute 2 in 7.242667 seconds.\n",
      "Ran multiscale mixing for attribute 3 in 8.76179 seconds.\n",
      "Ran multiscale mixing for attribute 4 in 7.974282 seconds.\n",
      "Ran multiscale mixing for attribute 5 in 7.12952 seconds.\n"
     ]
    }
   ],
   "source": [
    "networkfile = '../../problem_sets/2/facebook100txt/Reed98.txt'\n",
    "metadatafile = '../../problem_sets/2/facebook100txt/Reed98_attr.txt'\n",
    "\n",
    "\n",
    "Ms = []\n",
    "Ts = []\n",
    "Zs = []\n",
    "\n",
    "for col in range(1,6):\n",
    "    start = datetime.now()\n",
    "    E, M = load(\n",
    "        networkfile, \n",
    "        metadatafile, \n",
    "        zero_index=1, \n",
    "        meta_col=col,\n",
    "        header=True,\n",
    "        reindex=True,\n",
    "        missing_value=0\n",
    "    )\n",
    "    \n",
    "    assortM, assortT, Z = localAssortF(E,M,pr=np.arange(0,1,0.1))\n",
    "    Ms.append(assortM)\n",
    "    Ts.append(assortT)\n",
    "    Zs.append(Z)\n",
    "    end = datetime.now()\n",
    "    print(f\"Ran multiscale mixing for attribute {col} in {(end-start).total_seconds()} seconds.\")"
   ]
  },
  {
   "cell_type": "markdown",
   "id": "9f4a9305-c89a-4a6e-abc9-2378395664c2",
   "metadata": {},
   "source": [
    "# TODO:\n",
    "Play with some toy sample networks to build intuition.  \n",
    "\n",
    "What happens with one mismatched node in an assortative neighborhood.  How about one assortative node in a dissasortative neighborhood?  How about a node with a null value?  Nulls will become very important here."
   ]
  },
  {
   "cell_type": "code",
   "execution_count": 62,
   "id": "2ad54455-d729-4e99-9eab-315bcd94ca29",
   "metadata": {},
   "outputs": [],
   "source": [
    "from networkx.generators.community import stochastic_block_model as sbm\n",
    "import networkx as nx"
   ]
  },
  {
   "cell_type": "code",
   "execution_count": 113,
   "id": "91fa7db1-71fe-4ae7-9a1b-d20d4f7a0efd",
   "metadata": {},
   "outputs": [],
   "source": [
    "sizes = [200, 100]\n",
    "\n",
    "p = [[.1,.05], [.05, .1]]\n",
    "\n",
    "G = sbm(sizes, p)\n",
    "\n",
    "E = nx.convert_matrix.to_pandas_edgelist(G).values\n",
    "M = np.hstack([np.zeros(sizes[0]), np.ones(sizes[1])])\n",
    "\n",
    "assortM, assortT, Z = localAssortF(E,M,pr=np.arange(0,1,0.1))"
   ]
  },
  {
   "cell_type": "code",
   "execution_count": 114,
   "id": "41be6e8e-eb04-40f9-b4a4-afd48af385e2",
   "metadata": {},
   "outputs": [
    {
     "data": {
      "text/html": [
       "<div>\n",
       "<style scoped>\n",
       "    .dataframe tbody tr th:only-of-type {\n",
       "        vertical-align: middle;\n",
       "    }\n",
       "\n",
       "    .dataframe tbody tr th {\n",
       "        vertical-align: top;\n",
       "    }\n",
       "\n",
       "    .dataframe thead th {\n",
       "        text-align: right;\n",
       "    }\n",
       "</style>\n",
       "<table border=\"1\" class=\"dataframe\">\n",
       "  <thead>\n",
       "    <tr style=\"text-align: right;\">\n",
       "      <th></th>\n",
       "      <th>0</th>\n",
       "      <th>1</th>\n",
       "    </tr>\n",
       "  </thead>\n",
       "  <tbody>\n",
       "    <tr>\n",
       "      <th>0</th>\n",
       "      <td>1.000000</td>\n",
       "      <td>-0.858052</td>\n",
       "    </tr>\n",
       "    <tr>\n",
       "      <th>1</th>\n",
       "      <td>-0.858052</td>\n",
       "      <td>1.000000</td>\n",
       "    </tr>\n",
       "  </tbody>\n",
       "</table>\n",
       "</div>"
      ],
      "text/plain": [
       "          0         1\n",
       "0  1.000000 -0.858052\n",
       "1 -0.858052  1.000000"
      ]
     },
     "execution_count": 114,
     "metadata": {},
     "output_type": "execute_result"
    }
   ],
   "source": [
    "tm = pd.DataFrame([assortT, M]).T\n",
    "tm.corr()"
   ]
  },
  {
   "cell_type": "code",
   "execution_count": 115,
   "id": "1d67b428-b19c-40ac-a0e9-46878a54b1ac",
   "metadata": {},
   "outputs": [
    {
     "data": {
      "text/plain": [
       "0.4289589320654478"
      ]
     },
     "execution_count": 115,
     "metadata": {},
     "output_type": "execute_result"
    }
   ],
   "source": [
    "tm[tm[1]==0][0].mean()"
   ]
  },
  {
   "cell_type": "code",
   "execution_count": 116,
   "id": "eab9d23a-a16d-49d8-b079-40afecfed790",
   "metadata": {},
   "outputs": [
    {
     "data": {
      "text/plain": [
       "0.02883230660439054"
      ]
     },
     "execution_count": 116,
     "metadata": {},
     "output_type": "execute_result"
    }
   ],
   "source": [
    "tm[tm[1]==1][0].mean()"
   ]
  },
  {
   "cell_type": "code",
   "execution_count": 117,
   "id": "ce4caabc-d9c0-469d-8004-be2d578118a5",
   "metadata": {},
   "outputs": [
    {
     "data": {
      "text/html": [
       "<div>\n",
       "<style scoped>\n",
       "    .dataframe tbody tr th:only-of-type {\n",
       "        vertical-align: middle;\n",
       "    }\n",
       "\n",
       "    .dataframe tbody tr th {\n",
       "        vertical-align: top;\n",
       "    }\n",
       "\n",
       "    .dataframe thead th {\n",
       "        text-align: right;\n",
       "    }\n",
       "</style>\n",
       "<table border=\"1\" class=\"dataframe\">\n",
       "  <thead>\n",
       "    <tr style=\"text-align: right;\">\n",
       "      <th></th>\n",
       "      <th>0</th>\n",
       "      <th>1</th>\n",
       "    </tr>\n",
       "  </thead>\n",
       "  <tbody>\n",
       "    <tr>\n",
       "      <th>0</th>\n",
       "      <td>1.00000</td>\n",
       "      <td>-0.78771</td>\n",
       "    </tr>\n",
       "    <tr>\n",
       "      <th>1</th>\n",
       "      <td>-0.78771</td>\n",
       "      <td>1.00000</td>\n",
       "    </tr>\n",
       "  </tbody>\n",
       "</table>\n",
       "</div>"
      ],
      "text/plain": [
       "         0        1\n",
       "0  1.00000 -0.78771\n",
       "1 -0.78771  1.00000"
      ]
     },
     "execution_count": 117,
     "metadata": {},
     "output_type": "execute_result"
    }
   ],
   "source": [
    "sizes = [100, 50]\n",
    "\n",
    "p = [[.1,.05], [.05, .1]]\n",
    "\n",
    "G = sbm(sizes, p)\n",
    "\n",
    "E = nx.convert_matrix.to_pandas_edgelist(G).values\n",
    "M = np.hstack([np.zeros(sizes[0]), np.ones(sizes[1])])\n",
    "\n",
    "assortM, assortT, Z = localAssortF(E,M,pr=np.arange(0,1,0.1))\n",
    "tm = pd.DataFrame([assortT, M]).T\n",
    "tm.corr()"
   ]
  },
  {
   "cell_type": "code",
   "execution_count": 118,
   "id": "c682de34-2652-454e-b668-559eb4526632",
   "metadata": {},
   "outputs": [
    {
     "data": {
      "text/plain": [
       "0.38448229887830687"
      ]
     },
     "execution_count": 118,
     "metadata": {},
     "output_type": "execute_result"
    }
   ],
   "source": [
    "tm[tm[1]==0][0].mean()"
   ]
  },
  {
   "cell_type": "code",
   "execution_count": 119,
   "id": "d39e53b9-d580-423d-9786-e27be42fd0a2",
   "metadata": {},
   "outputs": [
    {
     "data": {
      "text/plain": [
       "-0.07788745829983985"
      ]
     },
     "execution_count": 119,
     "metadata": {},
     "output_type": "execute_result"
    }
   ],
   "source": [
    "tm[tm[1]==1][0].mean()"
   ]
  },
  {
   "cell_type": "code",
   "execution_count": 127,
   "id": "d6c5a322-586a-4d40-bfd5-b063fba94568",
   "metadata": {},
   "outputs": [
    {
     "data": {
      "text/html": [
       "<div>\n",
       "<style scoped>\n",
       "    .dataframe tbody tr th:only-of-type {\n",
       "        vertical-align: middle;\n",
       "    }\n",
       "\n",
       "    .dataframe tbody tr th {\n",
       "        vertical-align: top;\n",
       "    }\n",
       "\n",
       "    .dataframe thead th {\n",
       "        text-align: right;\n",
       "    }\n",
       "</style>\n",
       "<table border=\"1\" class=\"dataframe\">\n",
       "  <thead>\n",
       "    <tr style=\"text-align: right;\">\n",
       "      <th></th>\n",
       "      <th>0</th>\n",
       "      <th>1</th>\n",
       "    </tr>\n",
       "  </thead>\n",
       "  <tbody>\n",
       "    <tr>\n",
       "      <th>0</th>\n",
       "      <td>1.000000</td>\n",
       "      <td>-0.795238</td>\n",
       "    </tr>\n",
       "    <tr>\n",
       "      <th>1</th>\n",
       "      <td>-0.795238</td>\n",
       "      <td>1.000000</td>\n",
       "    </tr>\n",
       "  </tbody>\n",
       "</table>\n",
       "</div>"
      ],
      "text/plain": [
       "          0         1\n",
       "0  1.000000 -0.795238\n",
       "1 -0.795238  1.000000"
      ]
     },
     "execution_count": 127,
     "metadata": {},
     "output_type": "execute_result"
    }
   ],
   "source": [
    "sizes = [100, 50]\n",
    "\n",
    "p = [[.1,.05], [.05, .1]]\n",
    "\n",
    "G = sbm(sizes, p)\n",
    "\n",
    "E = nx.convert_matrix.to_pandas_edgelist(G).values\n",
    "M = np.hstack([np.zeros(sizes[0]), np.ones(sizes[1])])\n",
    "\n",
    "assortM, assortT, Z = localAssortF(E,M,pr=np.arange(0,1,0.1))\n",
    "tm = pd.DataFrame([assortT, M]).T\n",
    "tm.corr()"
   ]
  },
  {
   "cell_type": "code",
   "execution_count": 128,
   "id": "5b2e092b-c868-45fc-9625-2b714d180260",
   "metadata": {},
   "outputs": [
    {
     "data": {
      "text/plain": [
       "0.40274211331718734"
      ]
     },
     "execution_count": 128,
     "metadata": {},
     "output_type": "execute_result"
    }
   ],
   "source": [
    "tm[tm[1]==0][0].mean()"
   ]
  },
  {
   "cell_type": "code",
   "execution_count": 129,
   "id": "e91b03af-d276-4485-953d-651ec66c3752",
   "metadata": {},
   "outputs": [
    {
     "data": {
      "text/plain": [
       "-0.06171927218209498"
      ]
     },
     "execution_count": 129,
     "metadata": {},
     "output_type": "execute_result"
    }
   ],
   "source": [
    "tm[tm[1]==1][0].mean()"
   ]
  },
  {
   "cell_type": "markdown",
   "id": "0fefc140-8d65-4ca3-80aa-aa92bceeb064",
   "metadata": {},
   "source": [
    "When there are unbalanced classes, the smaller class comes out with a lower multiscale mixing coefficient even when there is a higher probability of pairing.  How does this change in disassortative networks?\n",
    "\n",
    "TODO: what happens when we only look at smaller scales?"
   ]
  },
  {
   "cell_type": "code",
   "execution_count": 131,
   "id": "57d400e9-17c9-400a-9afe-e763085e1a29",
   "metadata": {},
   "outputs": [
    {
     "data": {
      "text/html": [
       "<div>\n",
       "<style scoped>\n",
       "    .dataframe tbody tr th:only-of-type {\n",
       "        vertical-align: middle;\n",
       "    }\n",
       "\n",
       "    .dataframe tbody tr th {\n",
       "        vertical-align: top;\n",
       "    }\n",
       "\n",
       "    .dataframe thead th {\n",
       "        text-align: right;\n",
       "    }\n",
       "</style>\n",
       "<table border=\"1\" class=\"dataframe\">\n",
       "  <thead>\n",
       "    <tr style=\"text-align: right;\">\n",
       "      <th></th>\n",
       "      <th>0</th>\n",
       "      <th>1</th>\n",
       "    </tr>\n",
       "  </thead>\n",
       "  <tbody>\n",
       "    <tr>\n",
       "      <th>0</th>\n",
       "      <td>1.000000</td>\n",
       "      <td>-0.654095</td>\n",
       "    </tr>\n",
       "    <tr>\n",
       "      <th>1</th>\n",
       "      <td>-0.654095</td>\n",
       "      <td>1.000000</td>\n",
       "    </tr>\n",
       "  </tbody>\n",
       "</table>\n",
       "</div>"
      ],
      "text/plain": [
       "          0         1\n",
       "0  1.000000 -0.654095\n",
       "1 -0.654095  1.000000"
      ]
     },
     "execution_count": 131,
     "metadata": {},
     "output_type": "execute_result"
    }
   ],
   "source": [
    "sizes = [100, 50]\n",
    "\n",
    "p = [[.05,.2], [.2, .05]]\n",
    "\n",
    "G = sbm(sizes, p)\n",
    "\n",
    "E = nx.convert_matrix.to_pandas_edgelist(G).values\n",
    "M = np.hstack([np.zeros(sizes[0]), np.ones(sizes[1])])\n",
    "\n",
    "assortM, assortT, Z = localAssortF(E,M,pr=np.arange(0,1,0.1))\n",
    "tm = pd.DataFrame([assortT, M]).T\n",
    "tm.corr()"
   ]
  },
  {
   "cell_type": "code",
   "execution_count": 132,
   "id": "382a209e-2f9e-4ef8-881c-452dec9449fa",
   "metadata": {},
   "outputs": [
    {
     "data": {
      "text/plain": [
       "-0.4374436736675371"
      ]
     },
     "execution_count": 132,
     "metadata": {},
     "output_type": "execute_result"
    }
   ],
   "source": [
    "tm[tm[1]==0][0].mean()"
   ]
  },
  {
   "cell_type": "code",
   "execution_count": 133,
   "id": "c8f362eb-3bac-4c7f-96ba-d394f7099ff7",
   "metadata": {},
   "outputs": [
    {
     "data": {
      "text/plain": [
       "-0.6598697622429177"
      ]
     },
     "execution_count": 133,
     "metadata": {},
     "output_type": "execute_result"
    }
   ],
   "source": [
    "tm[tm[1]==1][0].mean()"
   ]
  },
  {
   "cell_type": "markdown",
   "id": "14247f85-524a-49b1-814e-1e3cdde2411d",
   "metadata": {},
   "source": [
    "The smaller group here will be recieve a lower score because nodes will on average have more neighbors in the other group.  This makes sense I think...\n",
    "\n",
    "What happens if we add a few nulls?"
   ]
  },
  {
   "cell_type": "code",
   "execution_count": 185,
   "id": "e7815f46-7ddc-422c-b54b-27622da79103",
   "metadata": {},
   "outputs": [
    {
     "data": {
      "text/html": [
       "<div>\n",
       "<style scoped>\n",
       "    .dataframe tbody tr th:only-of-type {\n",
       "        vertical-align: middle;\n",
       "    }\n",
       "\n",
       "    .dataframe tbody tr th {\n",
       "        vertical-align: top;\n",
       "    }\n",
       "\n",
       "    .dataframe thead th {\n",
       "        text-align: right;\n",
       "    }\n",
       "</style>\n",
       "<table border=\"1\" class=\"dataframe\">\n",
       "  <thead>\n",
       "    <tr style=\"text-align: right;\">\n",
       "      <th></th>\n",
       "      <th>0</th>\n",
       "      <th>1</th>\n",
       "    </tr>\n",
       "  </thead>\n",
       "  <tbody>\n",
       "    <tr>\n",
       "      <th>0</th>\n",
       "      <td>1.000000</td>\n",
       "      <td>-0.625614</td>\n",
       "    </tr>\n",
       "    <tr>\n",
       "      <th>1</th>\n",
       "      <td>-0.625614</td>\n",
       "      <td>1.000000</td>\n",
       "    </tr>\n",
       "  </tbody>\n",
       "</table>\n",
       "</div>"
      ],
      "text/plain": [
       "          0         1\n",
       "0  1.000000 -0.625614\n",
       "1 -0.625614  1.000000"
      ]
     },
     "execution_count": 185,
     "metadata": {},
     "output_type": "execute_result"
    }
   ],
   "source": [
    "sizes = [100, 50]\n",
    "\n",
    "p = [[.05,.2], [.2, .05]]\n",
    "\n",
    "G = sbm(sizes, p)\n",
    "\n",
    "nulls = np.random.choice(sum(sizes), 3)\n",
    "for n in nulls:\n",
    "    G.nodes[n][\"block\"] = -1\n",
    "\n",
    "E = nx.convert_matrix.to_pandas_edgelist(G).values\n",
    "M = np.hstack([np.zeros(sizes[0]), np.ones(sizes[1])])\n",
    "M[nulls] = -1\n",
    "\n",
    "assortM, assortT, Z = localAssortF(E,M,pr=np.arange(0,1,0.1))\n",
    "tm = pd.DataFrame([assortT, M]).T\n",
    "tm.corr()"
   ]
  },
  {
   "cell_type": "code",
   "execution_count": 186,
   "id": "6152a712-29d7-4cfd-8ee9-5410c5cd3bf9",
   "metadata": {},
   "outputs": [
    {
     "data": {
      "text/html": [
       "<div>\n",
       "<style scoped>\n",
       "    .dataframe tbody tr th:only-of-type {\n",
       "        vertical-align: middle;\n",
       "    }\n",
       "\n",
       "    .dataframe tbody tr th {\n",
       "        vertical-align: top;\n",
       "    }\n",
       "\n",
       "    .dataframe thead th {\n",
       "        text-align: right;\n",
       "    }\n",
       "</style>\n",
       "<table border=\"1\" class=\"dataframe\">\n",
       "  <thead>\n",
       "    <tr style=\"text-align: right;\">\n",
       "      <th></th>\n",
       "      <th>0</th>\n",
       "      <th>1</th>\n",
       "    </tr>\n",
       "  </thead>\n",
       "  <tbody>\n",
       "    <tr>\n",
       "      <th>130</th>\n",
       "      <td>-0.490576</td>\n",
       "      <td>-1.0</td>\n",
       "    </tr>\n",
       "    <tr>\n",
       "      <th>133</th>\n",
       "      <td>-0.514159</td>\n",
       "      <td>-1.0</td>\n",
       "    </tr>\n",
       "    <tr>\n",
       "      <th>19</th>\n",
       "      <td>-0.583676</td>\n",
       "      <td>-1.0</td>\n",
       "    </tr>\n",
       "  </tbody>\n",
       "</table>\n",
       "</div>"
      ],
      "text/plain": [
       "            0    1\n",
       "130 -0.490576 -1.0\n",
       "133 -0.514159 -1.0\n",
       "19  -0.583676 -1.0"
      ]
     },
     "execution_count": 186,
     "metadata": {},
     "output_type": "execute_result"
    }
   ],
   "source": [
    "tm.iloc[nulls]"
   ]
  },
  {
   "cell_type": "code",
   "execution_count": 187,
   "id": "c6157051-44fc-4d1a-8866-e63a60db8015",
   "metadata": {},
   "outputs": [
    {
     "data": {
      "text/plain": [
       "-0.44282499452653956"
      ]
     },
     "execution_count": 187,
     "metadata": {},
     "output_type": "execute_result"
    }
   ],
   "source": [
    "tm[tm[1]==0][0].mean()"
   ]
  },
  {
   "cell_type": "code",
   "execution_count": 188,
   "id": "6889599b-cf51-476e-a6ea-f2e4e335fa3a",
   "metadata": {},
   "outputs": [
    {
     "data": {
      "text/plain": [
       "-0.669816683009928"
      ]
     },
     "execution_count": 188,
     "metadata": {},
     "output_type": "execute_result"
    }
   ],
   "source": [
    "tm[tm[1]==1][0].mean()"
   ]
  },
  {
   "cell_type": "code",
   "execution_count": 189,
   "id": "32e93bc4-567b-4fcd-9240-f17b2ac0d827",
   "metadata": {},
   "outputs": [
    {
     "data": {
      "text/plain": [
       "array([0.46433425, 0.46631966, 0.4689766 ])"
      ]
     },
     "execution_count": 189,
     "metadata": {},
     "output_type": "execute_result"
    }
   ],
   "source": [
    "Z[nulls]"
   ]
  },
  {
   "cell_type": "markdown",
   "id": "fa9dc8c1-bee6-444f-9e97-b2a734cbc04d",
   "metadata": {},
   "source": [
    "Nulls appear to be less assortative than the baseline for their group.  What about in an assortative network?"
   ]
  },
  {
   "cell_type": "code",
   "execution_count": 193,
   "id": "94231d1a-e669-4981-9a4e-caa405bce7bb",
   "metadata": {},
   "outputs": [
    {
     "data": {
      "text/html": [
       "<div>\n",
       "<style scoped>\n",
       "    .dataframe tbody tr th:only-of-type {\n",
       "        vertical-align: middle;\n",
       "    }\n",
       "\n",
       "    .dataframe tbody tr th {\n",
       "        vertical-align: top;\n",
       "    }\n",
       "\n",
       "    .dataframe thead th {\n",
       "        text-align: right;\n",
       "    }\n",
       "</style>\n",
       "<table border=\"1\" class=\"dataframe\">\n",
       "  <thead>\n",
       "    <tr style=\"text-align: right;\">\n",
       "      <th></th>\n",
       "      <th>0</th>\n",
       "      <th>1</th>\n",
       "    </tr>\n",
       "  </thead>\n",
       "  <tbody>\n",
       "    <tr>\n",
       "      <th>0</th>\n",
       "      <td>1.000000</td>\n",
       "      <td>-0.756486</td>\n",
       "    </tr>\n",
       "    <tr>\n",
       "      <th>1</th>\n",
       "      <td>-0.756486</td>\n",
       "      <td>1.000000</td>\n",
       "    </tr>\n",
       "  </tbody>\n",
       "</table>\n",
       "</div>"
      ],
      "text/plain": [
       "          0         1\n",
       "0  1.000000 -0.756486\n",
       "1 -0.756486  1.000000"
      ]
     },
     "execution_count": 193,
     "metadata": {},
     "output_type": "execute_result"
    }
   ],
   "source": [
    "sizes = [100, 50]\n",
    "\n",
    "p = [[.3,.03], [.03, .3]]\n",
    "\n",
    "G = sbm(sizes, p)\n",
    "\n",
    "nulls = np.random.choice(sum(sizes), 3)\n",
    "for n in nulls:\n",
    "    G.nodes[n][\"block\"] = -1\n",
    "\n",
    "E = nx.convert_matrix.to_pandas_edgelist(G).values\n",
    "M = np.hstack([np.zeros(sizes[0]), np.ones(sizes[1])])\n",
    "M[nulls] = -1\n",
    "\n",
    "assortM, assortT, Z = localAssortF(E,M,pr=np.arange(0,1,0.1))\n",
    "tm = pd.DataFrame([assortT, M]).T\n",
    "tm.corr()"
   ]
  },
  {
   "cell_type": "code",
   "execution_count": 194,
   "id": "1c067b91-bc81-4c79-89c8-cf00cb240a82",
   "metadata": {},
   "outputs": [
    {
     "data": {
      "text/plain": [
       "0.8295097824295542"
      ]
     },
     "execution_count": 194,
     "metadata": {},
     "output_type": "execute_result"
    }
   ],
   "source": [
    "tm[tm[1]==0][0].mean()"
   ]
  },
  {
   "cell_type": "code",
   "execution_count": 195,
   "id": "e9067910-c396-4cdd-852d-6427a35f8763",
   "metadata": {},
   "outputs": [
    {
     "data": {
      "text/plain": [
       "0.5479452937462972"
      ]
     },
     "execution_count": 195,
     "metadata": {},
     "output_type": "execute_result"
    }
   ],
   "source": [
    "tm[tm[1]==1][0].mean()"
   ]
  },
  {
   "cell_type": "code",
   "execution_count": 196,
   "id": "77cdea43-5380-4e89-b2be-1eb78d4a9bb5",
   "metadata": {},
   "outputs": [
    {
     "data": {
      "text/html": [
       "<div>\n",
       "<style scoped>\n",
       "    .dataframe tbody tr th:only-of-type {\n",
       "        vertical-align: middle;\n",
       "    }\n",
       "\n",
       "    .dataframe tbody tr th {\n",
       "        vertical-align: top;\n",
       "    }\n",
       "\n",
       "    .dataframe thead th {\n",
       "        text-align: right;\n",
       "    }\n",
       "</style>\n",
       "<table border=\"1\" class=\"dataframe\">\n",
       "  <thead>\n",
       "    <tr style=\"text-align: right;\">\n",
       "      <th></th>\n",
       "      <th>0</th>\n",
       "      <th>1</th>\n",
       "    </tr>\n",
       "  </thead>\n",
       "  <tbody>\n",
       "    <tr>\n",
       "      <th>92</th>\n",
       "      <td>0.802403</td>\n",
       "      <td>-1.0</td>\n",
       "    </tr>\n",
       "    <tr>\n",
       "      <th>7</th>\n",
       "      <td>0.787130</td>\n",
       "      <td>-1.0</td>\n",
       "    </tr>\n",
       "    <tr>\n",
       "      <th>118</th>\n",
       "      <td>0.671871</td>\n",
       "      <td>-1.0</td>\n",
       "    </tr>\n",
       "  </tbody>\n",
       "</table>\n",
       "</div>"
      ],
      "text/plain": [
       "            0    1\n",
       "92   0.802403 -1.0\n",
       "7    0.787130 -1.0\n",
       "118  0.671871 -1.0"
      ]
     },
     "execution_count": 196,
     "metadata": {},
     "output_type": "execute_result"
    }
   ],
   "source": [
    "tm.iloc[nulls]"
   ]
  },
  {
   "cell_type": "code",
   "execution_count": 208,
   "id": "cc863ca2-baf4-4f6e-bc08-bb6f7ad80b43",
   "metadata": {},
   "outputs": [
    {
     "data": {
      "text/plain": [
       "array([0.47983764, 0.47918146, 0.47429308])"
      ]
     },
     "execution_count": 208,
     "metadata": {},
     "output_type": "execute_result"
    }
   ],
   "source": [
    "Z[nulls]"
   ]
  },
  {
   "cell_type": "code",
   "execution_count": 207,
   "id": "43543457-c717-42b2-9c6f-fd8020d8f661",
   "metadata": {},
   "outputs": [
    {
     "data": {
      "text/plain": [
       "array([0.98392421, 0.98672734, 0.96393149, 0.96661903, 0.95246534,\n",
       "       0.98663789, 0.98610764, 0.47918146, 0.98490224, 0.98562941,\n",
       "       0.98600621, 0.96080906, 0.96176982, 0.96541365, 0.98537786,\n",
       "       0.94438043, 0.96695719, 0.98682698, 0.96799251, 0.98541582,\n",
       "       0.96621717, 0.98480794, 0.96926452, 0.98551886, 0.98573399,\n",
       "       0.98556829, 0.96394408, 0.98369197, 0.9829494 , 0.94445679,\n",
       "       0.96104915, 0.98720283, 0.96337437, 0.98571397, 0.95429427,\n",
       "       0.96466672, 0.98575611, 0.96120573, 0.98507701, 0.98706352,\n",
       "       0.96365208, 0.96703355, 0.98579286, 0.96692636, 0.96503826,\n",
       "       0.98644305, 0.96510599, 0.98433744, 0.98512257, 0.96439358,\n",
       "       0.98541253, 0.96282514, 0.96345924, 0.9602817 , 0.98639021,\n",
       "       0.98473054, 0.98427973, 0.96075897, 0.9852566 , 0.9855253 ,\n",
       "       0.98495613, 0.98516022, 0.98650375, 0.98590403, 0.96540248,\n",
       "       0.9857383 , 0.96970803, 0.94123719, 0.96934322, 0.96680045,\n",
       "       0.98571165, 0.9582131 , 0.98593271, 0.98446372, 0.98564357,\n",
       "       0.96290519, 0.98618898, 0.96784382, 0.96437667, 0.98421554,\n",
       "       0.98596096, 0.98532132, 0.98520924, 0.98607697, 0.96190562,\n",
       "       0.98656708, 0.9666251 , 0.98448111, 0.96507585, 0.98696005,\n",
       "       0.96406702, 0.94655241, 0.47983764, 0.96560592, 0.96467724,\n",
       "       0.96537943, 0.92966342, 0.96805646, 0.98566768, 0.95207946,\n",
       "       0.98568123, 0.94880826, 0.9854086 , 0.95225959, 0.9850904 ,\n",
       "       0.9854048 , 0.98631895, 0.98505447, 0.98340968, 0.98545564,\n",
       "       0.91840282, 0.98403684, 0.98580338, 0.95002548, 0.98405249,\n",
       "       0.98430553, 0.98469808, 0.94068222, 0.47429308, 0.98153715,\n",
       "       0.94280372, 0.95167631, 0.98294084, 0.98455267, 0.98489599,\n",
       "       0.92731668, 0.98317463, 0.98382957, 0.98610261, 0.95179752,\n",
       "       0.94792326, 0.94600825, 0.98673075, 0.98580239, 0.95076985,\n",
       "       0.98342888, 0.94237342, 0.98725042, 0.94896398, 0.98592668,\n",
       "       0.98847909, 0.98409607, 0.9852472 , 0.98493624, 0.98343149,\n",
       "       0.94119606, 0.98412617, 0.9875516 , 0.98575531, 0.98514466])"
      ]
     },
     "execution_count": 207,
     "metadata": {},
     "output_type": "execute_result"
    }
   ],
   "source": [
    "Z"
   ]
  },
  {
   "cell_type": "markdown",
   "id": "cc1cf320-c8d4-4e65-9b10-c6a549f34af3",
   "metadata": {},
   "source": [
    "Okay I think I get it... nulls are pulled closer to the global mean because their label is missing from the sample of the neighborhood.\n",
    "\n",
    "What about when you put one mismatched node in the middle of a VERY assortative neighborhood?"
   ]
  },
  {
   "cell_type": "code",
   "execution_count": 217,
   "id": "ab98fd1d-10d9-4b6e-8424-8c13972b5720",
   "metadata": {},
   "outputs": [
    {
     "data": {
      "text/html": [
       "<div>\n",
       "<style scoped>\n",
       "    .dataframe tbody tr th:only-of-type {\n",
       "        vertical-align: middle;\n",
       "    }\n",
       "\n",
       "    .dataframe tbody tr th {\n",
       "        vertical-align: top;\n",
       "    }\n",
       "\n",
       "    .dataframe thead th {\n",
       "        text-align: right;\n",
       "    }\n",
       "</style>\n",
       "<table border=\"1\" class=\"dataframe\">\n",
       "  <thead>\n",
       "    <tr style=\"text-align: right;\">\n",
       "      <th></th>\n",
       "      <th>0</th>\n",
       "      <th>1</th>\n",
       "    </tr>\n",
       "  </thead>\n",
       "  <tbody>\n",
       "    <tr>\n",
       "      <th>0</th>\n",
       "      <td>1.000000</td>\n",
       "      <td>-0.619492</td>\n",
       "    </tr>\n",
       "    <tr>\n",
       "      <th>1</th>\n",
       "      <td>-0.619492</td>\n",
       "      <td>1.000000</td>\n",
       "    </tr>\n",
       "  </tbody>\n",
       "</table>\n",
       "</div>"
      ],
      "text/plain": [
       "          0         1\n",
       "0  1.000000 -0.619492\n",
       "1 -0.619492  1.000000"
      ]
     },
     "execution_count": 217,
     "metadata": {},
     "output_type": "execute_result"
    }
   ],
   "source": [
    "sizes = [100, 50]\n",
    "\n",
    "p = [[.4,.01], [.01, .4]]\n",
    "\n",
    "G = sbm(sizes, p)\n",
    "\n",
    "# swap = np.random.choice(sizes[0])\n",
    "# G.nodes[swap][\"block\"] = 1\n",
    "\n",
    "E = nx.convert_matrix.to_pandas_edgelist(G).values\n",
    "M = np.hstack([np.zeros(sizes[0]), np.ones(sizes[1])])\n",
    "\n",
    "assortM, assortT, Z = localAssortF(E,M,pr=np.arange(0,1,0.1))\n",
    "tm = pd.DataFrame([assortT, M]).T\n",
    "tm.corr()"
   ]
  },
  {
   "cell_type": "code",
   "execution_count": 218,
   "id": "de3066b3-c5a8-4f9e-bdce-a5657983b23e",
   "metadata": {},
   "outputs": [
    {
     "data": {
      "text/plain": [
       "0.9654350111766228"
      ]
     },
     "execution_count": 218,
     "metadata": {},
     "output_type": "execute_result"
    }
   ],
   "source": [
    "tm[tm[1]==0][0].mean()"
   ]
  },
  {
   "cell_type": "code",
   "execution_count": 219,
   "id": "658646ea-8a19-45a9-a764-aa3d564166be",
   "metadata": {},
   "outputs": [
    {
     "data": {
      "text/plain": [
       "0.889745396634061"
      ]
     },
     "execution_count": 219,
     "metadata": {},
     "output_type": "execute_result"
    }
   ],
   "source": [
    "tm[tm[1]==1][0].mean()"
   ]
  },
  {
   "cell_type": "code",
   "execution_count": 220,
   "id": "af7ffcc9-e55e-4916-9d79-ff7b49811dd0",
   "metadata": {},
   "outputs": [
    {
     "data": {
      "text/html": [
       "<div>\n",
       "<style scoped>\n",
       "    .dataframe tbody tr th:only-of-type {\n",
       "        vertical-align: middle;\n",
       "    }\n",
       "\n",
       "    .dataframe tbody tr th {\n",
       "        vertical-align: top;\n",
       "    }\n",
       "\n",
       "    .dataframe thead th {\n",
       "        text-align: right;\n",
       "    }\n",
       "</style>\n",
       "<table border=\"1\" class=\"dataframe\">\n",
       "  <thead>\n",
       "    <tr style=\"text-align: right;\">\n",
       "      <th></th>\n",
       "      <th>0</th>\n",
       "      <th>1</th>\n",
       "    </tr>\n",
       "  </thead>\n",
       "  <tbody>\n",
       "    <tr>\n",
       "      <th>0</th>\n",
       "      <td>1.000000</td>\n",
       "      <td>-0.344674</td>\n",
       "    </tr>\n",
       "    <tr>\n",
       "      <th>1</th>\n",
       "      <td>-0.344674</td>\n",
       "      <td>1.000000</td>\n",
       "    </tr>\n",
       "  </tbody>\n",
       "</table>\n",
       "</div>"
      ],
      "text/plain": [
       "          0         1\n",
       "0  1.000000 -0.344674\n",
       "1 -0.344674  1.000000"
      ]
     },
     "execution_count": 220,
     "metadata": {},
     "output_type": "execute_result"
    }
   ],
   "source": [
    "sizes = [100, 50]\n",
    "\n",
    "p = [[.4,.01], [.01, .4]]\n",
    "\n",
    "G = sbm(sizes, p)\n",
    "\n",
    "swap = np.random.choice(sizes[0])\n",
    "G.nodes[swap][\"block\"] = 1\n",
    "\n",
    "E = nx.convert_matrix.to_pandas_edgelist(G).values\n",
    "M = np.hstack([np.zeros(sizes[0]), np.ones(sizes[1])])\n",
    "M[swap] = 1\n",
    "\n",
    "assortM, assortT, Z = localAssortF(E,M,pr=np.arange(0,1,0.1))\n",
    "tm = pd.DataFrame([assortT, M]).T\n",
    "tm.corr()"
   ]
  },
  {
   "cell_type": "code",
   "execution_count": 221,
   "id": "23710338-e73a-4a93-890f-9ec73419966a",
   "metadata": {},
   "outputs": [
    {
     "data": {
      "text/plain": [
       "0.9053527816001847"
      ]
     },
     "execution_count": 221,
     "metadata": {},
     "output_type": "execute_result"
    }
   ],
   "source": [
    "tm[tm[1]==0][0].mean()"
   ]
  },
  {
   "cell_type": "code",
   "execution_count": 222,
   "id": "e0cc4717-d412-49a8-ada2-428bdaada0ee",
   "metadata": {},
   "outputs": [
    {
     "data": {
      "text/plain": [
       "0.808790090200564"
      ]
     },
     "execution_count": 222,
     "metadata": {},
     "output_type": "execute_result"
    }
   ],
   "source": [
    "tm[tm[1]==1][0].mean()"
   ]
  },
  {
   "cell_type": "code",
   "execution_count": 223,
   "id": "759cffe6-beaa-41f7-94fb-6ef592c998d2",
   "metadata": {},
   "outputs": [
    {
     "data": {
      "text/plain": [
       "0   -0.550017\n",
       "1    1.000000\n",
       "Name: 73, dtype: float64"
      ]
     },
     "execution_count": 223,
     "metadata": {},
     "output_type": "execute_result"
    }
   ],
   "source": [
    "tm.iloc[swap]"
   ]
  },
  {
   "cell_type": "code",
   "execution_count": 225,
   "id": "0d21feaf-fb95-462b-800e-ab5a4903ea6b",
   "metadata": {},
   "outputs": [
    {
     "data": {
      "text/plain": [
       "1.0000000000000007"
      ]
     },
     "execution_count": 225,
     "metadata": {},
     "output_type": "execute_result"
    }
   ],
   "source": [
    "Z[swap]"
   ]
  },
  {
   "cell_type": "code",
   "execution_count": 224,
   "id": "16b42fc6-e08d-4c99-bd80-1fa6705e71e7",
   "metadata": {},
   "outputs": [
    {
     "data": {
      "text/html": [
       "<div>\n",
       "<style scoped>\n",
       "    .dataframe tbody tr th:only-of-type {\n",
       "        vertical-align: middle;\n",
       "    }\n",
       "\n",
       "    .dataframe tbody tr th {\n",
       "        vertical-align: top;\n",
       "    }\n",
       "\n",
       "    .dataframe thead th {\n",
       "        text-align: right;\n",
       "    }\n",
       "</style>\n",
       "<table border=\"1\" class=\"dataframe\">\n",
       "  <thead>\n",
       "    <tr style=\"text-align: right;\">\n",
       "      <th></th>\n",
       "      <th>0</th>\n",
       "      <th>1</th>\n",
       "    </tr>\n",
       "  </thead>\n",
       "  <tbody>\n",
       "    <tr>\n",
       "      <th>0</th>\n",
       "      <td>0.914520</td>\n",
       "      <td>0.0</td>\n",
       "    </tr>\n",
       "    <tr>\n",
       "      <th>1</th>\n",
       "      <td>0.905355</td>\n",
       "      <td>0.0</td>\n",
       "    </tr>\n",
       "    <tr>\n",
       "      <th>2</th>\n",
       "      <td>0.919880</td>\n",
       "      <td>0.0</td>\n",
       "    </tr>\n",
       "    <tr>\n",
       "      <th>3</th>\n",
       "      <td>0.886172</td>\n",
       "      <td>0.0</td>\n",
       "    </tr>\n",
       "    <tr>\n",
       "      <th>4</th>\n",
       "      <td>0.861936</td>\n",
       "      <td>0.0</td>\n",
       "    </tr>\n",
       "  </tbody>\n",
       "</table>\n",
       "</div>"
      ],
      "text/plain": [
       "          0    1\n",
       "0  0.914520  0.0\n",
       "1  0.905355  0.0\n",
       "2  0.919880  0.0\n",
       "3  0.886172  0.0\n",
       "4  0.861936  0.0"
      ]
     },
     "execution_count": 224,
     "metadata": {},
     "output_type": "execute_result"
    }
   ],
   "source": [
    "tm.head()"
   ]
  },
  {
   "cell_type": "code",
   "execution_count": 227,
   "id": "0b06681e-3ae6-4d4b-96c9-2c698587cb81",
   "metadata": {},
   "outputs": [
    {
     "data": {
      "text/html": [
       "<div>\n",
       "<style scoped>\n",
       "    .dataframe tbody tr th:only-of-type {\n",
       "        vertical-align: middle;\n",
       "    }\n",
       "\n",
       "    .dataframe tbody tr th {\n",
       "        vertical-align: top;\n",
       "    }\n",
       "\n",
       "    .dataframe thead th {\n",
       "        text-align: right;\n",
       "    }\n",
       "</style>\n",
       "<table border=\"1\" class=\"dataframe\">\n",
       "  <thead>\n",
       "    <tr style=\"text-align: right;\">\n",
       "      <th></th>\n",
       "      <th>0</th>\n",
       "      <th>1</th>\n",
       "    </tr>\n",
       "  </thead>\n",
       "  <tbody>\n",
       "    <tr>\n",
       "      <th>73</th>\n",
       "      <td>-0.550017</td>\n",
       "      <td>1.0</td>\n",
       "    </tr>\n",
       "    <tr>\n",
       "      <th>142</th>\n",
       "      <td>0.654003</td>\n",
       "      <td>1.0</td>\n",
       "    </tr>\n",
       "    <tr>\n",
       "      <th>107</th>\n",
       "      <td>0.690184</td>\n",
       "      <td>1.0</td>\n",
       "    </tr>\n",
       "    <tr>\n",
       "      <th>122</th>\n",
       "      <td>0.704483</td>\n",
       "      <td>1.0</td>\n",
       "    </tr>\n",
       "    <tr>\n",
       "      <th>102</th>\n",
       "      <td>0.708737</td>\n",
       "      <td>1.0</td>\n",
       "    </tr>\n",
       "  </tbody>\n",
       "</table>\n",
       "</div>"
      ],
      "text/plain": [
       "            0    1\n",
       "73  -0.550017  1.0\n",
       "142  0.654003  1.0\n",
       "107  0.690184  1.0\n",
       "122  0.704483  1.0\n",
       "102  0.708737  1.0"
      ]
     },
     "execution_count": 227,
     "metadata": {},
     "output_type": "execute_result"
    }
   ],
   "source": [
    "tm.sort_values(0).head()"
   ]
  },
  {
   "cell_type": "markdown",
   "id": "44f06107-7d87-4dc2-ab3d-670c0895ff9b",
   "metadata": {},
   "source": [
    "Okay looks like the one node in an assortative neighborhood with mismatched labels does come out very disassortative.  This is reassuring.\n",
    "\n",
    "So the one big question is how do you deal with unbalanced classes (as usual... FML)\n",
    "\n",
    "Options:\n",
    "\n",
    "1. Just use it and understand the impact of class imbalance.\n",
    "2. Take the final T_assort score and divide by the frequency of the starting node's class.  This is wrong (I think!) because the bias will be different at every node in the neighborhood depending on all of their classes.\n",
    "3. Alter the source code to normalize by class frequency at every step.  Look for and deal with any unanticipated consequences of doing this.\n",
    "4. Ditch multiscale mixing altogether and just the node's immediate neighbors.  Consider only working with networks of high mean degree or excluding nodes of low mean degree."
   ]
  },
  {
   "cell_type": "code",
   "execution_count": null,
   "id": "699fcc0e-d82c-45e1-b1e7-9e38877ea75d",
   "metadata": {},
   "outputs": [],
   "source": []
  },
  {
   "cell_type": "code",
   "execution_count": null,
   "id": "349aa2f5-65e3-4879-8fbf-691fc7bfa62f",
   "metadata": {},
   "outputs": [],
   "source": []
  },
  {
   "cell_type": "code",
   "execution_count": null,
   "id": "7e163a2b-d491-4353-9e99-421047b2eb57",
   "metadata": {},
   "outputs": [],
   "source": []
  },
  {
   "cell_type": "code",
   "execution_count": null,
   "id": "afada1ba-18d3-4a5a-9f47-d8bcbe7d5731",
   "metadata": {},
   "outputs": [],
   "source": []
  },
  {
   "cell_type": "code",
   "execution_count": null,
   "id": "26244c6a-6019-4eac-b091-3a6f841ebc30",
   "metadata": {},
   "outputs": [],
   "source": []
  },
  {
   "cell_type": "code",
   "execution_count": 22,
   "id": "aea77612-113a-4851-80d4-ff1b708cdc95",
   "metadata": {},
   "outputs": [
    {
     "name": "stdout",
     "output_type": "stream",
     "text": [
      "id\tstatus\tgender\tmajor\tdorm\tyear\n",
      "\n"
     ]
    }
   ],
   "source": [
    "with open(\"../../problem_sets/2/facebook100txt/Reed98_attr.txt\") as f:\n",
    "    print(f.readline())"
   ]
  },
  {
   "cell_type": "code",
   "execution_count": 29,
   "id": "3dffcbc1-64ff-4f9f-98f4-7fc0d7ddcd9e",
   "metadata": {},
   "outputs": [
    {
     "data": {
      "text/plain": [
       "False"
      ]
     },
     "execution_count": 29,
     "metadata": {},
     "output_type": "execute_result"
    }
   ],
   "source": [
    "np.isnan(T).any()"
   ]
  },
  {
   "cell_type": "code",
   "execution_count": 32,
   "id": "18eca806-ad1b-4122-b17c-5d7915506dd1",
   "metadata": {},
   "outputs": [
    {
     "data": {
      "text/plain": [
       "array([0.29234465, 0.02837804, 0.05417487, 0.14063715, 0.37408552])"
      ]
     },
     "execution_count": 32,
     "metadata": {},
     "output_type": "execute_result"
    }
   ],
   "source": [
    "T.mean(axis=1)"
   ]
  },
  {
   "cell_type": "code",
   "execution_count": 35,
   "id": "2734f8b4-330e-4069-9ae9-2a248f55ff36",
   "metadata": {},
   "outputs": [
    {
     "data": {
      "text/plain": [
       "count    962.000000\n",
       "mean       0.790133\n",
       "std        0.184279\n",
       "min        0.231184\n",
       "25%        0.797505\n",
       "50%        0.854555\n",
       "75%        0.895501\n",
       "max        0.967966\n",
       "dtype: float64"
      ]
     },
     "execution_count": 35,
     "metadata": {},
     "output_type": "execute_result"
    }
   ],
   "source": [
    "import pandas as pd\n",
    "pd.Series(Z).describe()"
   ]
  },
  {
   "cell_type": "code",
   "execution_count": 41,
   "id": "f085d6f6-db87-4e74-9f8d-a8a2055db4fa",
   "metadata": {},
   "outputs": [
    {
     "data": {
      "text/plain": [
       "array([[ 0.68605323,  0.65406055,  0.62011382,  0.58402034,  0.54554005,\n",
       "         0.50437737,  0.46017216,  0.41248988,  0.3608109 ,  0.30451898,\n",
       "        -0.00819243, -0.02786717, -0.04674454, -0.06472269, -0.08166825,\n",
       "        -0.09740664, -0.11171044, -0.12428589, -0.13475748, -0.14265056],\n",
       "       [ 0.68169286,  0.66001166,  0.63689971,  0.61181461,  0.58405399,\n",
       "         0.55267835,  0.51640707,  0.47348203,  0.42149384,  0.35716519,\n",
       "         0.10557929,  0.06653648,  0.03019543, -0.00338379, -0.03409618,\n",
       "        -0.06178186, -0.08621237, -0.10707248, -0.12393716, -0.13624287],\n",
       "       [ 1.        ,  0.71688624,  0.47544154,  0.27618432,  0.12004964,\n",
       "         0.00848091, -0.0564428 , -0.07183812, -0.03380137,  0.06286065,\n",
       "        -1.0443902 , -1.03607233, -1.01100212, -0.96892756, -0.9094827 ,\n",
       "        -0.83216877, -0.73632812, -0.62111023, -0.48542856, -0.32790727],\n",
       "       [ 1.        ,  0.98656291,  0.9699976 ,  0.94944189,  0.92360981,\n",
       "         0.89049364,  0.84681463,  0.78701976,  0.7014963 ,  0.57350239,\n",
       "         0.25658538,  0.22467252,  0.19302497,  0.1614907 ,  0.12982423,\n",
       "         0.09762117,  0.06420067,  0.02839606, -0.01181016, -0.05990379],\n",
       "       [ 1.        ,  0.98373664,  0.96418565,  0.9404829 ,  0.91134576,\n",
       "         0.87480484,  0.82774343,  0.76512698,  0.6787572 ,  0.55532881,\n",
       "        -0.16032957, -0.14641098, -0.13381064, -0.12262545, -0.11301204,\n",
       "        -0.1052257 , -0.09968806, -0.09710172, -0.09863716, -0.10622601]])"
      ]
     },
     "execution_count": 41,
     "metadata": {},
     "output_type": "execute_result"
    }
   ],
   "source": [
    "np.hstack(Ms)[:5, :20]"
   ]
  },
  {
   "cell_type": "code",
   "execution_count": 52,
   "id": "a03b1a52-95c9-43ac-8ddf-440942e7ab5e",
   "metadata": {},
   "outputs": [
    {
     "data": {
      "text/plain": [
       "array([ 0.30588893,  0.30222484,  0.29911297,  0.29655946,  0.2945505 ,\n",
       "        0.29302089,  0.29177978,  0.29034386,  0.2875844 ,  0.28102227,\n",
       "       -0.15131465, -0.14974378, -0.14811274, -0.14642603, -0.14469543,\n",
       "       -0.14294721, -0.14123736, -0.13968363, -0.13853005, -0.13827156,\n",
       "        0.03428544,  0.03347926,  0.03265541,  0.03180951,  0.03093733,\n",
       "        0.03003584,  0.0291057 ,  0.02815749,  0.02722511,  0.02639316,\n",
       "        0.04107555,  0.03978362,  0.03837452,  0.03680697,  0.03501856,\n",
       "        0.03290881,  0.03030457,  0.02688895,  0.02206003,  0.01465982,\n",
       "        0.23807638,  0.23900372,  0.23995328,  0.2408909 ,  0.24176108,\n",
       "        0.24246728,  0.24283044,  0.24250216,  0.24078977,  0.23631787])"
      ]
     },
     "execution_count": 52,
     "metadata": {},
     "output_type": "execute_result"
    }
   ],
   "source": [
    "np.hstack(Ms).mean(axis=0)"
   ]
  },
  {
   "cell_type": "code",
   "execution_count": 53,
   "id": "3392bc3c-1009-4884-a7d6-a54bf4c74c6a",
   "metadata": {},
   "outputs": [
    {
     "data": {
      "text/plain": [
       "array([[ 0.68605323,  0.65406055,  0.62011382, ...,  0.15396345,\n",
       "         0.17027345,  0.18921269],\n",
       "       [ 0.68169286,  0.66001166,  0.63689971, ...,  0.30731533,\n",
       "         0.28169637,  0.25418847],\n",
       "       [ 1.        ,  0.71688624,  0.47544154, ..., -0.05933412,\n",
       "         0.01683835,  0.10661169],\n",
       "       ...,\n",
       "       [ 0.75619027,  0.72714125,  0.6964998 , ...,  0.22613851,\n",
       "         0.22690235,  0.227655  ],\n",
       "       [-2.81968572, -2.56246783, -2.30515339, ...,  0.02768302,\n",
       "         0.08086656,  0.14008465],\n",
       "       [-0.24139786, -0.2473983 , -0.24920557, ...,  0.1961651 ,\n",
       "         0.19410676,  0.19637812]])"
      ]
     },
     "execution_count": 53,
     "metadata": {},
     "output_type": "execute_result"
    }
   ],
   "source": [
    "np.hstack(Ms)"
   ]
  }
 ],
 "metadata": {
  "kernelspec": {
   "display_name": "Python 3",
   "language": "python",
   "name": "python3"
  },
  "language_info": {
   "codemirror_mode": {
    "name": "ipython",
    "version": 3
   },
   "file_extension": ".py",
   "mimetype": "text/x-python",
   "name": "python",
   "nbconvert_exporter": "python",
   "pygments_lexer": "ipython3",
   "version": "3.9.5"
  }
 },
 "nbformat": 4,
 "nbformat_minor": 5
}
