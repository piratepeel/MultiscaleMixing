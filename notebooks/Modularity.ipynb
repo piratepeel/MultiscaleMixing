{
 "cells": [
  {
   "cell_type": "code",
   "execution_count": 1,
   "id": "cbf97a49-1327-47e9-a8d2-6355b7223d3a",
   "metadata": {},
   "outputs": [],
   "source": [
    "from datetime import datetime\n",
    "from lassort import load, localAssortF\n",
    "import networkx as nx\n",
    "import numpy as np\n",
    "import pandas as pd\n",
    "\n",
    "from networkx.generators.community import stochastic_block_model as sbm\n",
    "from networkx.algorithms.community import modularity\n",
    "from matplotlib import pyplot as plt"
   ]
  },
  {
   "cell_type": "markdown",
   "id": "0fae79d2-a0fa-4dae-ac65-0b97a3ac8f8a",
   "metadata": {},
   "source": [
    "How does modularity vary as a function of community size in a planted partition model with variable group sizes and fixed probabilities?"
   ]
  },
  {
   "cell_type": "code",
   "execution_count": 4,
   "id": "6ca24da7-ea52-4ba2-9495-ff4b20e9b7c8",
   "metadata": {},
   "outputs": [],
   "source": [
    "N = 800\n",
    "p = [[.1,.05], [.05, .1]]\n",
    "pnp = np.array(p)\n",
    "\n",
    "def run_analysis(\n",
    "    s0,\n",
    "    N=N,\n",
    "    p=p):\n",
    "    sizes = [s0, N - s0]\n",
    "    G = sbm(sizes, p)\n",
    "    E = nx.convert_matrix.to_pandas_edgelist(G).values\n",
    "    M = np.hstack([np.zeros(sizes[0]), np.ones(sizes[1])])\n",
    "\n",
    "    # modularity of partition\n",
    "    A = nx.convert_matrix.to_scipy_sparse_matrix(G)\n",
    "\n",
    "    # this is the stub count, or the edge count times 2\n",
    "    m2 = A.sum()\n",
    "\n",
    "    # intra-community edge density for each group\n",
    "    e0 = A[:sizes[0], :sizes[0]].sum() / m2\n",
    "    e1 = A[sizes[0]:, sizes[0]:].sum() / m2\n",
    "\n",
    "    # degree proportion for each group\n",
    "    a0 = A[:sizes[0],:].sum() / m2\n",
    "    a1 = A[sizes[0]:,:].sum() / m2\n",
    "\n",
    "    # modularity score\n",
    "    Q = e0 -a0**2 + e1 - a1**2\n",
    "    \n",
    "    return (m2/2, e0, e1, a0, a1, Q)"
   ]
  },
  {
   "cell_type": "code",
   "execution_count": 8,
   "id": "7757eae3-55a7-43a5-9a5d-c26bf80429d8",
   "metadata": {},
   "outputs": [
    {
     "data": {
      "text/html": [
       "<div>\n",
       "<style scoped>\n",
       "    .dataframe tbody tr th:only-of-type {\n",
       "        vertical-align: middle;\n",
       "    }\n",
       "\n",
       "    .dataframe tbody tr th {\n",
       "        vertical-align: top;\n",
       "    }\n",
       "\n",
       "    .dataframe thead th {\n",
       "        text-align: right;\n",
       "    }\n",
       "</style>\n",
       "<table border=\"1\" class=\"dataframe\">\n",
       "  <thead>\n",
       "    <tr style=\"text-align: right;\">\n",
       "      <th></th>\n",
       "      <th>m</th>\n",
       "      <th>e0</th>\n",
       "      <th>e1</th>\n",
       "      <th>a0</th>\n",
       "      <th>a1</th>\n",
       "      <th>Q</th>\n",
       "      <th>s0</th>\n",
       "    </tr>\n",
       "  </thead>\n",
       "  <tbody>\n",
       "    <tr>\n",
       "      <th>0</th>\n",
       "      <td>31637.0</td>\n",
       "      <td>0.000032</td>\n",
       "      <td>0.987799</td>\n",
       "      <td>0.006116</td>\n",
       "      <td>0.993884</td>\n",
       "      <td>-0.000012</td>\n",
       "      <td>10</td>\n",
       "    </tr>\n",
       "    <tr>\n",
       "      <th>1</th>\n",
       "      <td>31079.0</td>\n",
       "      <td>0.000483</td>\n",
       "      <td>0.974259</td>\n",
       "      <td>0.013112</td>\n",
       "      <td>0.986888</td>\n",
       "      <td>0.000621</td>\n",
       "      <td>20</td>\n",
       "    </tr>\n",
       "    <tr>\n",
       "      <th>2</th>\n",
       "      <td>31141.0</td>\n",
       "      <td>0.001413</td>\n",
       "      <td>0.959956</td>\n",
       "      <td>0.020728</td>\n",
       "      <td>0.979272</td>\n",
       "      <td>0.001967</td>\n",
       "      <td>30</td>\n",
       "    </tr>\n",
       "    <tr>\n",
       "      <th>3</th>\n",
       "      <td>30238.0</td>\n",
       "      <td>0.002910</td>\n",
       "      <td>0.945896</td>\n",
       "      <td>0.028507</td>\n",
       "      <td>0.971493</td>\n",
       "      <td>0.004195</td>\n",
       "      <td>40</td>\n",
       "    </tr>\n",
       "    <tr>\n",
       "      <th>4</th>\n",
       "      <td>29836.0</td>\n",
       "      <td>0.004257</td>\n",
       "      <td>0.934643</td>\n",
       "      <td>0.034807</td>\n",
       "      <td>0.965193</td>\n",
       "      <td>0.006090</td>\n",
       "      <td>50</td>\n",
       "    </tr>\n",
       "    <tr>\n",
       "      <th>...</th>\n",
       "      <td>...</td>\n",
       "      <td>...</td>\n",
       "      <td>...</td>\n",
       "      <td>...</td>\n",
       "      <td>...</td>\n",
       "      <td>...</td>\n",
       "      <td>...</td>\n",
       "    </tr>\n",
       "    <tr>\n",
       "      <th>75</th>\n",
       "      <td>29836.0</td>\n",
       "      <td>0.934643</td>\n",
       "      <td>0.004257</td>\n",
       "      <td>0.965193</td>\n",
       "      <td>0.034807</td>\n",
       "      <td>0.006090</td>\n",
       "      <td>750</td>\n",
       "    </tr>\n",
       "    <tr>\n",
       "      <th>76</th>\n",
       "      <td>30238.0</td>\n",
       "      <td>0.945896</td>\n",
       "      <td>0.002910</td>\n",
       "      <td>0.971493</td>\n",
       "      <td>0.028507</td>\n",
       "      <td>0.004195</td>\n",
       "      <td>760</td>\n",
       "    </tr>\n",
       "    <tr>\n",
       "      <th>77</th>\n",
       "      <td>31141.0</td>\n",
       "      <td>0.959956</td>\n",
       "      <td>0.001413</td>\n",
       "      <td>0.979272</td>\n",
       "      <td>0.020728</td>\n",
       "      <td>0.001967</td>\n",
       "      <td>770</td>\n",
       "    </tr>\n",
       "    <tr>\n",
       "      <th>78</th>\n",
       "      <td>31079.0</td>\n",
       "      <td>0.974259</td>\n",
       "      <td>0.000483</td>\n",
       "      <td>0.986888</td>\n",
       "      <td>0.013112</td>\n",
       "      <td>0.000621</td>\n",
       "      <td>780</td>\n",
       "    </tr>\n",
       "    <tr>\n",
       "      <th>79</th>\n",
       "      <td>31637.0</td>\n",
       "      <td>0.987799</td>\n",
       "      <td>0.000032</td>\n",
       "      <td>0.993884</td>\n",
       "      <td>0.006116</td>\n",
       "      <td>-0.000012</td>\n",
       "      <td>790</td>\n",
       "    </tr>\n",
       "  </tbody>\n",
       "</table>\n",
       "<p>80 rows × 7 columns</p>\n",
       "</div>"
      ],
      "text/plain": [
       "          m        e0        e1        a0        a1         Q   s0\n",
       "0   31637.0  0.000032  0.987799  0.006116  0.993884 -0.000012   10\n",
       "1   31079.0  0.000483  0.974259  0.013112  0.986888  0.000621   20\n",
       "2   31141.0  0.001413  0.959956  0.020728  0.979272  0.001967   30\n",
       "3   30238.0  0.002910  0.945896  0.028507  0.971493  0.004195   40\n",
       "4   29836.0  0.004257  0.934643  0.034807  0.965193  0.006090   50\n",
       "..      ...       ...       ...       ...       ...       ...  ...\n",
       "75  29836.0  0.934643  0.004257  0.965193  0.034807  0.006090  750\n",
       "76  30238.0  0.945896  0.002910  0.971493  0.028507  0.004195  760\n",
       "77  31141.0  0.959956  0.001413  0.979272  0.020728  0.001967  770\n",
       "78  31079.0  0.974259  0.000483  0.986888  0.013112  0.000621  780\n",
       "79  31637.0  0.987799  0.000032  0.993884  0.006116 -0.000012  790\n",
       "\n",
       "[80 rows x 7 columns]"
      ]
     },
     "execution_count": 8,
     "metadata": {},
     "output_type": "execute_result"
    }
   ],
   "source": [
    "# s0s = pd.Series(np.arange(10, 401, 10))\n",
    "# results = s0s.apply(run_analysis)\n",
    "\n",
    "columns = [\"m\", \"e0\", \"e1\", \"a0\", \"a1\", \"Q\"]\n",
    "df = pd.DataFrame(\n",
    "    results.to_list(),\n",
    "    columns=columns\n",
    ")\n",
    "df[\"s0\"] = s0s\n",
    "\n",
    "df_rev = df.copy()\n",
    "df_rev[\"s0\"] = N - df_rev.s0\n",
    "\n",
    "# switch T0, T1\n",
    "# swiith a0, a1\n",
    "# switch e0, e1\n",
    "df_rev.columns = ['m', 'e1', 'e0', 'a1', 'a0', 'Q', 's0']\n",
    "df = pd.concat([df,df_rev], axis=0).sort_values(\"s0\").reset_index(drop=True)\n",
    "\n",
    "df"
   ]
  },
  {
   "cell_type": "code",
   "execution_count": 9,
   "id": "f91c4b48-73b2-47d1-a44c-9228a1591a2e",
   "metadata": {},
   "outputs": [
    {
     "data": {
      "text/plain": [
       "<AxesSubplot:>"
      ]
     },
     "execution_count": 9,
     "metadata": {},
     "output_type": "execute_result"
    },
    {
     "data": {
      "image/png": "[encoded data removed]",
      "text/plain": [
       "<Figure size 432x288 with 1 Axes>"
      ]
     },
     "metadata": {
      "needs_background": "light"
     },
     "output_type": "display_data"
    }
   ],
   "source": [
    "df.Q.plot()"
   ]
  },
  {
   "cell_type": "code",
   "execution_count": 91,
   "id": "9e6de773-e5d9-4b83-9409-c7bf691de766",
   "metadata": {},
   "outputs": [
    {
     "data": {
      "text/plain": [
       "array([[4.50000e+00, 3.99500e+02],\n",
       "       [3.99500e+02, 3.11655e+04]])"
      ]
     },
     "execution_count": 91,
     "metadata": {},
     "output_type": "execute_result"
    }
   ],
   "source": [
    "omega = np.array(p)\n",
    "s0 = 10\n",
    "\n",
    "omega[0,0] = omega[0,0] * s0 * (s0 - 1) / 2\n",
    "omega[0,1] = omega[0,1] * s0 * (N-1)\n",
    "omega[1,0] = omega[0,1]\n",
    "omega[1,1] = omega[1,1] * (N-s0) * (N - s0 -1) / 2 \n",
    "\n",
    "omega"
   ]
  },
  {
   "cell_type": "code",
   "execution_count": 97,
   "id": "8ee54b51-f0fb-4d97-9b07-a1a7be7d6494",
   "metadata": {},
   "outputs": [
    {
     "data": {
      "text/plain": [
       "971288410.5"
      ]
     },
     "execution_count": 97,
     "metadata": {},
     "output_type": "execute_result"
    }
   ],
   "source": [
    "er = (np.diag(omega) ** 2).sum()\n",
    "er"
   ]
  },
  {
   "cell_type": "code",
   "execution_count": 95,
   "id": "83a23fe1-2f7f-4892-a8d6-407343510ae7",
   "metadata": {},
   "outputs": [
    {
     "data": {
      "text/plain": [
       "20.25"
      ]
     },
     "execution_count": 95,
     "metadata": {},
     "output_type": "execute_result"
    }
   ],
   "source": [
    "4.5 ** 2"
   ]
  },
  {
   "cell_type": "code",
   "execution_count": 90,
   "id": "2aa5c4b2-7aa5-4185-8563-889683746799",
   "metadata": {},
   "outputs": [
    {
     "data": {
      "text/plain": [
       "31729"
      ]
     },
     "execution_count": 90,
     "metadata": {},
     "output_type": "execute_result"
    }
   ],
   "source": [
    "sizes = [s0, N - s0]\n",
    "G = sbm(sizes, p)\n",
    "len(G.edges)"
   ]
  }
 ],
 "metadata": {
  "kernelspec": {
   "display_name": "Python 3",
   "language": "python",
   "name": "python3"
  },
  "language_info": {
   "codemirror_mode": {
    "name": "ipython",
    "version": 3
   },
   "file_extension": ".py",
   "mimetype": "text/x-python",
   "name": "python",
   "nbconvert_exporter": "python",
   "pygments_lexer": "ipython3",
   "version": "3.9.5"
  }
 },
 "nbformat": 4,
 "nbformat_minor": 5
}
