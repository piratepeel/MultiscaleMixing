{
 "cells": [
  {
   "cell_type": "code",
   "execution_count": 1,
   "id": "c3c2d712-aff4-4243-af07-185a7cc9bb05",
   "metadata": {},
   "outputs": [],
   "source": [
    "from datetime import datetime\n",
    "from lassort import load, localAssortF\n",
    "import networkx as nx\n",
    "import numpy as np\n",
    "import pandas as pd\n",
    "\n",
    "from networkx.generators.community import stochastic_block_model as sbm\n",
    "from networkx.algorithms.community import modularity\n",
    "from matplotlib import pyplot as plt"
   ]
  },
  {
   "cell_type": "markdown",
   "id": "2bae5731-1660-4e4a-a275-f95675c77ac4",
   "metadata": {},
   "source": [
    "# Problem Statement\n",
    "It looks like the multiscale mixing algorithm tends to classify larger classes as having more extreme scores and smaller classes as having more average scores given equal probability of connecting in the SBM.  I believe this is due to the fact that the algorithm looks at the difference between the local and global scores rather than the ratio.  Smaller classes are more likely to have more connections to other classes given the same pairing probability in the mixing matrix.  \n",
    "\n",
    "This seems to be analogous to the fact that modularity scores favor larger communities over smaller ones.  Since multiscale mixing is a generalization of modularity, it produces higher (or lower for disassortative) scores for larger groups.\n",
    "\n",
    "TODO: Find sources discussing the limitations of modularity.\n",
    "\n",
    "For an SBM model with 2 communities and fixed mixing matrix, identify the multiscale mixing score for vertices within each community, and the number of edges within and between communities, and the modularity of the network.  How do these parameters vary as a function of community size?  How do they vary as a function of the mixing matrix?\n",
    "\n",
    "# Future Thoughts\n",
    "Generalize the resolution parameter from modularity to work with multiscale mixing.  Look at https://link.aps.org/accepted/10.1103/PhysRevE.94.052315 .\n",
    "\n",
    "Can you generalize Equations 13-15 to work in the case where each partition has a distinct omega_rs?  I think you can just stick the appropriate gamma value into equation 6 of the multiscale mixing paper."
   ]
  },
  {
   "cell_type": "code",
   "execution_count": 144,
   "id": "66238790-6aa5-4619-9899-53a5d7ee69ba",
   "metadata": {},
   "outputs": [],
   "source": [
    "N = 800\n",
    "p = [[.1,.05], [.05, .1]]\n",
    "\n",
    "def run_analysis(\n",
    "    s0, \n",
    "    N=N, \n",
    "    p=p):\n",
    "    sizes = [s0, N - s0]\n",
    "    G = sbm(sizes, p)\n",
    "    E = nx.convert_matrix.to_pandas_edgelist(G).values\n",
    "    M = np.hstack([np.zeros(sizes[0]), np.ones(sizes[1])])\n",
    "\n",
    "    assortM, assortT, Z = localAssortF(E,M,pr=np.arange(0,1,0.1))\n",
    "\n",
    "    # average score for first group\n",
    "    T0 = assortT[:sizes[0]].mean()\n",
    "    # average score for second group\n",
    "    T1 = assortT[sizes[0]:].mean()\n",
    "\n",
    "    # mixing score vs. group\n",
    "    r = np.corrcoef(assortT, M)[0,1]\n",
    "\n",
    "    # modularity of partition\n",
    "    A = nx.convert_matrix.to_scipy_sparse_matrix(G)\n",
    "\n",
    "    # this is the stub count, or the edge count times 2\n",
    "    m2 = A.sum()\n",
    "\n",
    "    # intra-community edge density for each group\n",
    "    e0 = A[:sizes[0], :sizes[0]].sum() / m2\n",
    "    e1 = A[sizes[0]:, sizes[0]:].sum() / m2\n",
    "\n",
    "    # degree proportion for each group\n",
    "    a0 = A[:sizes[0],:].sum() / m2\n",
    "    a1 = A[sizes[0]:,:].sum() / m2\n",
    "\n",
    "    # modularity score\n",
    "    Q = e0 -a0**2 + e1 - a1**2\n",
    "    \n",
    "    return (m2/2, e0, e1, a0, a1, Q, T0, T1)"
   ]
  },
  {
   "cell_type": "code",
   "execution_count": 145,
   "id": "63aa640e-6825-4beb-a173-a20da4c94152",
   "metadata": {},
   "outputs": [],
   "source": [
    "m, e0, e1, a0, a1, Q, T0, T1 = run_analysis(400)"
   ]
  },
  {
   "cell_type": "code",
   "execution_count": 158,
   "id": "e7190666-1b44-4738-b340-7c497b620be9",
   "metadata": {},
   "outputs": [],
   "source": [
    "s0s = pd.Series(np.arange(10, 401, 10))\n",
    "results = s0s.apply(run_analysis)"
   ]
  },
  {
   "cell_type": "code",
   "execution_count": 167,
   "id": "e6e2ea79-839d-455c-8e2f-db03567d210d",
   "metadata": {},
   "outputs": [
    {
     "data": {
      "text/html": [
       "<div>\n",
       "<style scoped>\n",
       "    .dataframe tbody tr th:only-of-type {\n",
       "        vertical-align: middle;\n",
       "    }\n",
       "\n",
       "    .dataframe tbody tr th {\n",
       "        vertical-align: top;\n",
       "    }\n",
       "\n",
       "    .dataframe thead th {\n",
       "        text-align: right;\n",
       "    }\n",
       "</style>\n",
       "<table border=\"1\" class=\"dataframe\">\n",
       "  <thead>\n",
       "    <tr style=\"text-align: right;\">\n",
       "      <th></th>\n",
       "      <th>m</th>\n",
       "      <th>e0</th>\n",
       "      <th>e1</th>\n",
       "      <th>a0</th>\n",
       "      <th>a1</th>\n",
       "      <th>Q</th>\n",
       "      <th>T0</th>\n",
       "      <th>T1</th>\n",
       "      <th>s0</th>\n",
       "    </tr>\n",
       "  </thead>\n",
       "  <tbody>\n",
       "    <tr>\n",
       "      <th>0</th>\n",
       "      <td>31648.0</td>\n",
       "      <td>0.000126</td>\n",
       "      <td>0.987456</td>\n",
       "      <td>0.006335</td>\n",
       "      <td>0.993665</td>\n",
       "      <td>0.000173</td>\n",
       "      <td>-38.836823</td>\n",
       "      <td>0.261904</td>\n",
       "      <td>10</td>\n",
       "    </tr>\n",
       "    <tr>\n",
       "      <th>1</th>\n",
       "      <td>31586.0</td>\n",
       "      <td>0.000950</td>\n",
       "      <td>0.974166</td>\n",
       "      <td>0.013392</td>\n",
       "      <td>0.986608</td>\n",
       "      <td>0.001541</td>\n",
       "      <td>-17.513126</td>\n",
       "      <td>0.297626</td>\n",
       "      <td>20</td>\n",
       "    </tr>\n",
       "    <tr>\n",
       "      <th>2</th>\n",
       "      <td>30863.0</td>\n",
       "      <td>0.001555</td>\n",
       "      <td>0.962447</td>\n",
       "      <td>0.019554</td>\n",
       "      <td>0.980446</td>\n",
       "      <td>0.002346</td>\n",
       "      <td>-11.799412</td>\n",
       "      <td>0.297844</td>\n",
       "      <td>30</td>\n",
       "    </tr>\n",
       "    <tr>\n",
       "      <th>3</th>\n",
       "      <td>30558.0</td>\n",
       "      <td>0.002749</td>\n",
       "      <td>0.946201</td>\n",
       "      <td>0.028274</td>\n",
       "      <td>0.971726</td>\n",
       "      <td>0.003899</td>\n",
       "      <td>-7.913212</td>\n",
       "      <td>0.303625</td>\n",
       "      <td>40</td>\n",
       "    </tr>\n",
       "    <tr>\n",
       "      <th>4</th>\n",
       "      <td>30073.0</td>\n",
       "      <td>0.004556</td>\n",
       "      <td>0.932863</td>\n",
       "      <td>0.035846</td>\n",
       "      <td>0.964154</td>\n",
       "      <td>0.006541</td>\n",
       "      <td>-5.987025</td>\n",
       "      <td>0.319884</td>\n",
       "      <td>50</td>\n",
       "    </tr>\n",
       "    <tr>\n",
       "      <th>5</th>\n",
       "      <td>29928.0</td>\n",
       "      <td>0.005914</td>\n",
       "      <td>0.920743</td>\n",
       "      <td>0.042586</td>\n",
       "      <td>0.957414</td>\n",
       "      <td>0.008201</td>\n",
       "      <td>-4.931631</td>\n",
       "      <td>0.325933</td>\n",
       "      <td>60</td>\n",
       "    </tr>\n",
       "    <tr>\n",
       "      <th>6</th>\n",
       "      <td>29288.0</td>\n",
       "      <td>0.008877</td>\n",
       "      <td>0.903715</td>\n",
       "      <td>0.052581</td>\n",
       "      <td>0.947419</td>\n",
       "      <td>0.012225</td>\n",
       "      <td>-3.790319</td>\n",
       "      <td>0.340612</td>\n",
       "      <td>70</td>\n",
       "    </tr>\n",
       "    <tr>\n",
       "      <th>7</th>\n",
       "      <td>29165.0</td>\n",
       "      <td>0.012069</td>\n",
       "      <td>0.888051</td>\n",
       "      <td>0.062009</td>\n",
       "      <td>0.937991</td>\n",
       "      <td>0.016448</td>\n",
       "      <td>-3.061583</td>\n",
       "      <td>0.353833</td>\n",
       "      <td>80</td>\n",
       "    </tr>\n",
       "    <tr>\n",
       "      <th>8</th>\n",
       "      <td>28779.0</td>\n",
       "      <td>0.014108</td>\n",
       "      <td>0.873310</td>\n",
       "      <td>0.070399</td>\n",
       "      <td>0.929601</td>\n",
       "      <td>0.018303</td>\n",
       "      <td>-2.632204</td>\n",
       "      <td>0.348937</td>\n",
       "      <td>90</td>\n",
       "    </tr>\n",
       "    <tr>\n",
       "      <th>9</th>\n",
       "      <td>28351.0</td>\n",
       "      <td>0.019329</td>\n",
       "      <td>0.856936</td>\n",
       "      <td>0.081196</td>\n",
       "      <td>0.918804</td>\n",
       "      <td>0.025473</td>\n",
       "      <td>-2.112897</td>\n",
       "      <td>0.372996</td>\n",
       "      <td>100</td>\n",
       "    </tr>\n",
       "    <tr>\n",
       "      <th>10</th>\n",
       "      <td>28368.0</td>\n",
       "      <td>0.022102</td>\n",
       "      <td>0.846270</td>\n",
       "      <td>0.087916</td>\n",
       "      <td>0.912084</td>\n",
       "      <td>0.028746</td>\n",
       "      <td>-1.881883</td>\n",
       "      <td>0.377685</td>\n",
       "      <td>110</td>\n",
       "    </tr>\n",
       "    <tr>\n",
       "      <th>11</th>\n",
       "      <td>27734.0</td>\n",
       "      <td>0.025132</td>\n",
       "      <td>0.826422</td>\n",
       "      <td>0.099355</td>\n",
       "      <td>0.900645</td>\n",
       "      <td>0.030521</td>\n",
       "      <td>-1.617623</td>\n",
       "      <td>0.367548</td>\n",
       "      <td>120</td>\n",
       "    </tr>\n",
       "    <tr>\n",
       "      <th>12</th>\n",
       "      <td>27651.0</td>\n",
       "      <td>0.029764</td>\n",
       "      <td>0.808832</td>\n",
       "      <td>0.110466</td>\n",
       "      <td>0.889534</td>\n",
       "      <td>0.035122</td>\n",
       "      <td>-1.371229</td>\n",
       "      <td>0.371106</td>\n",
       "      <td>130</td>\n",
       "    </tr>\n",
       "    <tr>\n",
       "      <th>13</th>\n",
       "      <td>27280.0</td>\n",
       "      <td>0.036913</td>\n",
       "      <td>0.792669</td>\n",
       "      <td>0.122122</td>\n",
       "      <td>0.877878</td>\n",
       "      <td>0.043999</td>\n",
       "      <td>-1.127768</td>\n",
       "      <td>0.389894</td>\n",
       "      <td>140</td>\n",
       "    </tr>\n",
       "    <tr>\n",
       "      <th>14</th>\n",
       "      <td>26866.0</td>\n",
       "      <td>0.040497</td>\n",
       "      <td>0.778158</td>\n",
       "      <td>0.131170</td>\n",
       "      <td>0.868830</td>\n",
       "      <td>0.046584</td>\n",
       "      <td>-1.004494</td>\n",
       "      <td>0.387801</td>\n",
       "      <td>150</td>\n",
       "    </tr>\n",
       "    <tr>\n",
       "      <th>15</th>\n",
       "      <td>26865.0</td>\n",
       "      <td>0.046268</td>\n",
       "      <td>0.760916</td>\n",
       "      <td>0.142676</td>\n",
       "      <td>0.857324</td>\n",
       "      <td>0.051824</td>\n",
       "      <td>-0.859723</td>\n",
       "      <td>0.389788</td>\n",
       "      <td>160</td>\n",
       "    </tr>\n",
       "    <tr>\n",
       "      <th>16</th>\n",
       "      <td>26868.0</td>\n",
       "      <td>0.053744</td>\n",
       "      <td>0.742780</td>\n",
       "      <td>0.155482</td>\n",
       "      <td>0.844518</td>\n",
       "      <td>0.059139</td>\n",
       "      <td>-0.711923</td>\n",
       "      <td>0.397523</td>\n",
       "      <td>170</td>\n",
       "    </tr>\n",
       "    <tr>\n",
       "      <th>17</th>\n",
       "      <td>26196.0</td>\n",
       "      <td>0.060620</td>\n",
       "      <td>0.726638</td>\n",
       "      <td>0.166991</td>\n",
       "      <td>0.833009</td>\n",
       "      <td>0.065468</td>\n",
       "      <td>-0.600244</td>\n",
       "      <td>0.402473</td>\n",
       "      <td>180</td>\n",
       "    </tr>\n",
       "    <tr>\n",
       "      <th>18</th>\n",
       "      <td>26241.0</td>\n",
       "      <td>0.069395</td>\n",
       "      <td>0.710301</td>\n",
       "      <td>0.179547</td>\n",
       "      <td>0.820453</td>\n",
       "      <td>0.074316</td>\n",
       "      <td>-0.484197</td>\n",
       "      <td>0.413079</td>\n",
       "      <td>190</td>\n",
       "    </tr>\n",
       "    <tr>\n",
       "      <th>19</th>\n",
       "      <td>25768.0</td>\n",
       "      <td>0.077499</td>\n",
       "      <td>0.691245</td>\n",
       "      <td>0.193127</td>\n",
       "      <td>0.806873</td>\n",
       "      <td>0.080402</td>\n",
       "      <td>-0.393194</td>\n",
       "      <td>0.414010</td>\n",
       "      <td>200</td>\n",
       "    </tr>\n",
       "    <tr>\n",
       "      <th>20</th>\n",
       "      <td>25882.0</td>\n",
       "      <td>0.085233</td>\n",
       "      <td>0.672823</td>\n",
       "      <td>0.206205</td>\n",
       "      <td>0.793795</td>\n",
       "      <td>0.085425</td>\n",
       "      <td>-0.321479</td>\n",
       "      <td>0.412563</td>\n",
       "      <td>210</td>\n",
       "    </tr>\n",
       "    <tr>\n",
       "      <th>21</th>\n",
       "      <td>25637.0</td>\n",
       "      <td>0.094395</td>\n",
       "      <td>0.656122</td>\n",
       "      <td>0.219136</td>\n",
       "      <td>0.780864</td>\n",
       "      <td>0.092748</td>\n",
       "      <td>-0.248016</td>\n",
       "      <td>0.417068</td>\n",
       "      <td>220</td>\n",
       "    </tr>\n",
       "    <tr>\n",
       "      <th>22</th>\n",
       "      <td>25489.0</td>\n",
       "      <td>0.104437</td>\n",
       "      <td>0.638785</td>\n",
       "      <td>0.232826</td>\n",
       "      <td>0.767174</td>\n",
       "      <td>0.100459</td>\n",
       "      <td>-0.179755</td>\n",
       "      <td>0.421301</td>\n",
       "      <td>230</td>\n",
       "    </tr>\n",
       "    <tr>\n",
       "      <th>23</th>\n",
       "      <td>25043.0</td>\n",
       "      <td>0.113565</td>\n",
       "      <td>0.619015</td>\n",
       "      <td>0.247275</td>\n",
       "      <td>0.752725</td>\n",
       "      <td>0.104840</td>\n",
       "      <td>-0.127091</td>\n",
       "      <td>0.416423</td>\n",
       "      <td>240</td>\n",
       "    </tr>\n",
       "    <tr>\n",
       "      <th>24</th>\n",
       "      <td>25276.0</td>\n",
       "      <td>0.124980</td>\n",
       "      <td>0.600609</td>\n",
       "      <td>0.262185</td>\n",
       "      <td>0.737815</td>\n",
       "      <td>0.112478</td>\n",
       "      <td>-0.069784</td>\n",
       "      <td>0.418959</td>\n",
       "      <td>250</td>\n",
       "    </tr>\n",
       "    <tr>\n",
       "      <th>25</th>\n",
       "      <td>24955.0</td>\n",
       "      <td>0.133520</td>\n",
       "      <td>0.579804</td>\n",
       "      <td>0.276858</td>\n",
       "      <td>0.723142</td>\n",
       "      <td>0.113740</td>\n",
       "      <td>-0.037339</td>\n",
       "      <td>0.407625</td>\n",
       "      <td>260</td>\n",
       "    </tr>\n",
       "    <tr>\n",
       "      <th>26</th>\n",
       "      <td>24765.0</td>\n",
       "      <td>0.149203</td>\n",
       "      <td>0.567171</td>\n",
       "      <td>0.291016</td>\n",
       "      <td>0.708984</td>\n",
       "      <td>0.129025</td>\n",
       "      <td>0.034345</td>\n",
       "      <td>0.427470</td>\n",
       "      <td>270</td>\n",
       "    </tr>\n",
       "    <tr>\n",
       "      <th>27</th>\n",
       "      <td>24577.0</td>\n",
       "      <td>0.160964</td>\n",
       "      <td>0.546039</td>\n",
       "      <td>0.307462</td>\n",
       "      <td>0.692538</td>\n",
       "      <td>0.132861</td>\n",
       "      <td>0.068970</td>\n",
       "      <td>0.420474</td>\n",
       "      <td>280</td>\n",
       "    </tr>\n",
       "    <tr>\n",
       "      <th>28</th>\n",
       "      <td>24512.0</td>\n",
       "      <td>0.169713</td>\n",
       "      <td>0.523295</td>\n",
       "      <td>0.323209</td>\n",
       "      <td>0.676791</td>\n",
       "      <td>0.130497</td>\n",
       "      <td>0.082653</td>\n",
       "      <td>0.401946</td>\n",
       "      <td>290</td>\n",
       "    </tr>\n",
       "    <tr>\n",
       "      <th>29</th>\n",
       "      <td>24807.0</td>\n",
       "      <td>0.181562</td>\n",
       "      <td>0.508324</td>\n",
       "      <td>0.336619</td>\n",
       "      <td>0.663381</td>\n",
       "      <td>0.136499</td>\n",
       "      <td>0.116143</td>\n",
       "      <td>0.402326</td>\n",
       "      <td>300</td>\n",
       "    </tr>\n",
       "    <tr>\n",
       "      <th>30</th>\n",
       "      <td>24271.0</td>\n",
       "      <td>0.193317</td>\n",
       "      <td>0.494294</td>\n",
       "      <td>0.349512</td>\n",
       "      <td>0.650488</td>\n",
       "      <td>0.142317</td>\n",
       "      <td>0.145585</td>\n",
       "      <td>0.402696</td>\n",
       "      <td>310</td>\n",
       "    </tr>\n",
       "    <tr>\n",
       "      <th>31</th>\n",
       "      <td>24429.0</td>\n",
       "      <td>0.209382</td>\n",
       "      <td>0.472962</td>\n",
       "      <td>0.368210</td>\n",
       "      <td>0.631790</td>\n",
       "      <td>0.147608</td>\n",
       "      <td>0.179402</td>\n",
       "      <td>0.397539</td>\n",
       "      <td>320</td>\n",
       "    </tr>\n",
       "    <tr>\n",
       "      <th>32</th>\n",
       "      <td>24051.0</td>\n",
       "      <td>0.224814</td>\n",
       "      <td>0.454451</td>\n",
       "      <td>0.385181</td>\n",
       "      <td>0.614819</td>\n",
       "      <td>0.152898</td>\n",
       "      <td>0.207820</td>\n",
       "      <td>0.394579</td>\n",
       "      <td>330</td>\n",
       "    </tr>\n",
       "    <tr>\n",
       "      <th>33</th>\n",
       "      <td>24074.0</td>\n",
       "      <td>0.240841</td>\n",
       "      <td>0.438606</td>\n",
       "      <td>0.401117</td>\n",
       "      <td>0.598883</td>\n",
       "      <td>0.159891</td>\n",
       "      <td>0.238437</td>\n",
       "      <td>0.395590</td>\n",
       "      <td>340</td>\n",
       "    </tr>\n",
       "    <tr>\n",
       "      <th>34</th>\n",
       "      <td>23930.0</td>\n",
       "      <td>0.257585</td>\n",
       "      <td>0.417259</td>\n",
       "      <td>0.420163</td>\n",
       "      <td>0.579837</td>\n",
       "      <td>0.162095</td>\n",
       "      <td>0.260998</td>\n",
       "      <td>0.385385</td>\n",
       "      <td>350</td>\n",
       "    </tr>\n",
       "    <tr>\n",
       "      <th>35</th>\n",
       "      <td>24346.0</td>\n",
       "      <td>0.272242</td>\n",
       "      <td>0.399614</td>\n",
       "      <td>0.436314</td>\n",
       "      <td>0.563686</td>\n",
       "      <td>0.163744</td>\n",
       "      <td>0.277283</td>\n",
       "      <td>0.375960</td>\n",
       "      <td>360</td>\n",
       "    </tr>\n",
       "    <tr>\n",
       "      <th>36</th>\n",
       "      <td>24098.0</td>\n",
       "      <td>0.289070</td>\n",
       "      <td>0.382314</td>\n",
       "      <td>0.453378</td>\n",
       "      <td>0.546622</td>\n",
       "      <td>0.167036</td>\n",
       "      <td>0.297924</td>\n",
       "      <td>0.369364</td>\n",
       "      <td>370</td>\n",
       "    </tr>\n",
       "    <tr>\n",
       "      <th>37</th>\n",
       "      <td>23841.0</td>\n",
       "      <td>0.301581</td>\n",
       "      <td>0.362862</td>\n",
       "      <td>0.469360</td>\n",
       "      <td>0.530640</td>\n",
       "      <td>0.162566</td>\n",
       "      <td>0.301503</td>\n",
       "      <td>0.348088</td>\n",
       "      <td>380</td>\n",
       "    </tr>\n",
       "    <tr>\n",
       "      <th>38</th>\n",
       "      <td>24083.0</td>\n",
       "      <td>0.312046</td>\n",
       "      <td>0.352199</td>\n",
       "      <td>0.479924</td>\n",
       "      <td>0.520076</td>\n",
       "      <td>0.163438</td>\n",
       "      <td>0.311307</td>\n",
       "      <td>0.342637</td>\n",
       "      <td>390</td>\n",
       "    </tr>\n",
       "  </tbody>\n",
       "</table>\n",
       "</div>"
      ],
      "text/plain": [
       "          m        e0        e1        a0        a1         Q         T0  \\\n",
       "0   31648.0  0.000126  0.987456  0.006335  0.993665  0.000173 -38.836823   \n",
       "1   31586.0  0.000950  0.974166  0.013392  0.986608  0.001541 -17.513126   \n",
       "2   30863.0  0.001555  0.962447  0.019554  0.980446  0.002346 -11.799412   \n",
       "3   30558.0  0.002749  0.946201  0.028274  0.971726  0.003899  -7.913212   \n",
       "4   30073.0  0.004556  0.932863  0.035846  0.964154  0.006541  -5.987025   \n",
       "5   29928.0  0.005914  0.920743  0.042586  0.957414  0.008201  -4.931631   \n",
       "6   29288.0  0.008877  0.903715  0.052581  0.947419  0.012225  -3.790319   \n",
       "7   29165.0  0.012069  0.888051  0.062009  0.937991  0.016448  -3.061583   \n",
       "8   28779.0  0.014108  0.873310  0.070399  0.929601  0.018303  -2.632204   \n",
       "9   28351.0  0.019329  0.856936  0.081196  0.918804  0.025473  -2.112897   \n",
       "10  28368.0  0.022102  0.846270  0.087916  0.912084  0.028746  -1.881883   \n",
       "11  27734.0  0.025132  0.826422  0.099355  0.900645  0.030521  -1.617623   \n",
       "12  27651.0  0.029764  0.808832  0.110466  0.889534  0.035122  -1.371229   \n",
       "13  27280.0  0.036913  0.792669  0.122122  0.877878  0.043999  -1.127768   \n",
       "14  26866.0  0.040497  0.778158  0.131170  0.868830  0.046584  -1.004494   \n",
       "15  26865.0  0.046268  0.760916  0.142676  0.857324  0.051824  -0.859723   \n",
       "16  26868.0  0.053744  0.742780  0.155482  0.844518  0.059139  -0.711923   \n",
       "17  26196.0  0.060620  0.726638  0.166991  0.833009  0.065468  -0.600244   \n",
       "18  26241.0  0.069395  0.710301  0.179547  0.820453  0.074316  -0.484197   \n",
       "19  25768.0  0.077499  0.691245  0.193127  0.806873  0.080402  -0.393194   \n",
       "20  25882.0  0.085233  0.672823  0.206205  0.793795  0.085425  -0.321479   \n",
       "21  25637.0  0.094395  0.656122  0.219136  0.780864  0.092748  -0.248016   \n",
       "22  25489.0  0.104437  0.638785  0.232826  0.767174  0.100459  -0.179755   \n",
       "23  25043.0  0.113565  0.619015  0.247275  0.752725  0.104840  -0.127091   \n",
       "24  25276.0  0.124980  0.600609  0.262185  0.737815  0.112478  -0.069784   \n",
       "25  24955.0  0.133520  0.579804  0.276858  0.723142  0.113740  -0.037339   \n",
       "26  24765.0  0.149203  0.567171  0.291016  0.708984  0.129025   0.034345   \n",
       "27  24577.0  0.160964  0.546039  0.307462  0.692538  0.132861   0.068970   \n",
       "28  24512.0  0.169713  0.523295  0.323209  0.676791  0.130497   0.082653   \n",
       "29  24807.0  0.181562  0.508324  0.336619  0.663381  0.136499   0.116143   \n",
       "30  24271.0  0.193317  0.494294  0.349512  0.650488  0.142317   0.145585   \n",
       "31  24429.0  0.209382  0.472962  0.368210  0.631790  0.147608   0.179402   \n",
       "32  24051.0  0.224814  0.454451  0.385181  0.614819  0.152898   0.207820   \n",
       "33  24074.0  0.240841  0.438606  0.401117  0.598883  0.159891   0.238437   \n",
       "34  23930.0  0.257585  0.417259  0.420163  0.579837  0.162095   0.260998   \n",
       "35  24346.0  0.272242  0.399614  0.436314  0.563686  0.163744   0.277283   \n",
       "36  24098.0  0.289070  0.382314  0.453378  0.546622  0.167036   0.297924   \n",
       "37  23841.0  0.301581  0.362862  0.469360  0.530640  0.162566   0.301503   \n",
       "38  24083.0  0.312046  0.352199  0.479924  0.520076  0.163438   0.311307   \n",
       "\n",
       "          T1   s0  \n",
       "0   0.261904   10  \n",
       "1   0.297626   20  \n",
       "2   0.297844   30  \n",
       "3   0.303625   40  \n",
       "4   0.319884   50  \n",
       "5   0.325933   60  \n",
       "6   0.340612   70  \n",
       "7   0.353833   80  \n",
       "8   0.348937   90  \n",
       "9   0.372996  100  \n",
       "10  0.377685  110  \n",
       "11  0.367548  120  \n",
       "12  0.371106  130  \n",
       "13  0.389894  140  \n",
       "14  0.387801  150  \n",
       "15  0.389788  160  \n",
       "16  0.397523  170  \n",
       "17  0.402473  180  \n",
       "18  0.413079  190  \n",
       "19  0.414010  200  \n",
       "20  0.412563  210  \n",
       "21  0.417068  220  \n",
       "22  0.421301  230  \n",
       "23  0.416423  240  \n",
       "24  0.418959  250  \n",
       "25  0.407625  260  \n",
       "26  0.427470  270  \n",
       "27  0.420474  280  \n",
       "28  0.401946  290  \n",
       "29  0.402326  300  \n",
       "30  0.402696  310  \n",
       "31  0.397539  320  \n",
       "32  0.394579  330  \n",
       "33  0.395590  340  \n",
       "34  0.385385  350  \n",
       "35  0.375960  360  \n",
       "36  0.369364  370  \n",
       "37  0.348088  380  \n",
       "38  0.342637  390  "
      ]
     },
     "execution_count": 167,
     "metadata": {},
     "output_type": "execute_result"
    }
   ],
   "source": [
    "columns = [\"m\", \"e0\", \"e1\", \"a0\", \"a1\", \"Q\", \"T0\", \"T1\"]\n",
    "df = pd.DataFrame(\n",
    "    results.to_list(),\n",
    "    columns=columns\n",
    ")\n",
    "df[\"s0\"] = s0s\n",
    "\n",
    "df"
   ]
  },
  {
   "cell_type": "code",
   "execution_count": 205,
   "id": "3c6c98a4-64b7-4dda-bcc0-ff619b8e22ea",
   "metadata": {},
   "outputs": [
    {
     "data": {
      "text/plain": [
       "<matplotlib.legend.Legend at 0x11cd0e9a0>"
      ]
     },
     "execution_count": 205,
     "metadata": {},
     "output_type": "execute_result"
    },
    {
     "data": {
      "image/png": "[encoded data removed]",
      "text/plain": [
       "<Figure size 432x288 with 1 Axes>"
      ]
     },
     "metadata": {
      "needs_background": "light"
     },
     "output_type": "display_data"
    }
   ],
   "source": [
    "ax = df.plot(kind=\"scatter\", x=\"s0\", y=\"T0\", color=\"cyan\",ylim=[-0.5, 0.5])\n",
    "df.plot(kind=\"scatter\", x=\"s0\", y=\"T1\", ax=ax, color=\"orange\")\n",
    "df.plot(kind=\"scatter\", x=\"s0\", y=\"Q\", ax=ax, color=\"magenta\")\n",
    "ax.legend([\"Smaller Group T\", \"Larger Group T\", \"Q\"])"
   ]
  },
  {
   "cell_type": "code",
   "execution_count": 209,
   "id": "dbe3c979-d5ca-444b-a814-5a297d586a36",
   "metadata": {},
   "outputs": [
    {
     "data": {
      "text/plain": [
       "<matplotlib.legend.Legend at 0x11ced6670>"
      ]
     },
     "execution_count": 209,
     "metadata": {},
     "output_type": "execute_result"
    },
    {
     "data": {
      "image/png": "[encoded data removed]",
      "text/plain": [
       "<Figure size 432x288 with 1 Axes>"
      ]
     },
     "metadata": {
      "needs_background": "light"
     },
     "output_type": "display_data"
    }
   ],
   "source": [
    "ax = df.plot(kind=\"scatter\", x=\"s0\", y=\"e0\", ylim=[-0.5, 0.5])\n",
    "df.plot(kind=\"scatter\", x=\"s0\", y=\"a0\", ax=ax, color=\"orange\")\n",
    "df.plot(kind=\"scatter\", x=\"s0\", y=\"T0\", ax=ax, color=\"magenta\")\n",
    "ax.legend([\"e0\", \"a0\", \"T0\"])"
   ]
  },
  {
   "cell_type": "code",
   "execution_count": 214,
   "id": "979a802c-b617-4ca8-a912-105676d82e59",
   "metadata": {},
   "outputs": [
    {
     "data": {
      "text/plain": [
       "<matplotlib.legend.Legend at 0x11d27be50>"
      ]
     },
     "execution_count": 214,
     "metadata": {},
     "output_type": "execute_result"
    },
    {
     "data": {
      "image/png": "[encoded data removed]",
      "text/plain": [
       "<Figure size 432x288 with 1 Axes>"
      ]
     },
     "metadata": {
      "needs_background": "light"
     },
     "output_type": "display_data"
    }
   ],
   "source": [
    "ax = df.plot(kind=\"scatter\", x=\"s0\", y=\"e1\", ylim=[0.2, 1.1])\n",
    "df.plot(kind=\"scatter\", x=\"s0\", y=\"a1\", ax=ax, color=\"orange\")\n",
    "df.plot(kind=\"scatter\", x=\"s0\", y=\"T1\", ax=ax, color=\"magenta\")\n",
    "ax.legend([\"e1\", \"a1\", \"T1\"])"
   ]
  },
  {
   "cell_type": "markdown",
   "id": "a6685cec-1530-4832-8ea4-c9091aac2a82",
   "metadata": {},
   "source": [
    "Can we stick these together and get the whole range of group sizes?"
   ]
  },
  {
   "cell_type": "code",
   "execution_count": 236,
   "id": "fd417c26-067c-4994-acd3-81c365bf0a6e",
   "metadata": {},
   "outputs": [],
   "source": [
    "df_rev = df.copy()\n",
    "df_rev[\"s0\"] = N - df_rev.s0\n",
    "\n",
    "# switch T0, T1\n",
    "# swiith a0, a1\n",
    "# switch e0, e1\n",
    "df_rev.columns = ['m', 'e1', 'e0', 'a1', 'a0', 'Q', 'T1', 'T0', 's0']"
   ]
  },
  {
   "cell_type": "code",
   "execution_count": 240,
   "id": "b52df557-8333-495a-b5be-e6e6cbd66daa",
   "metadata": {},
   "outputs": [
    {
     "data": {
      "text/html": [
       "<div>\n",
       "<style scoped>\n",
       "    .dataframe tbody tr th:only-of-type {\n",
       "        vertical-align: middle;\n",
       "    }\n",
       "\n",
       "    .dataframe tbody tr th {\n",
       "        vertical-align: top;\n",
       "    }\n",
       "\n",
       "    .dataframe thead th {\n",
       "        text-align: right;\n",
       "    }\n",
       "</style>\n",
       "<table border=\"1\" class=\"dataframe\">\n",
       "  <thead>\n",
       "    <tr style=\"text-align: right;\">\n",
       "      <th></th>\n",
       "      <th>m</th>\n",
       "      <th>e0</th>\n",
       "      <th>e1</th>\n",
       "      <th>a0</th>\n",
       "      <th>a1</th>\n",
       "      <th>Q</th>\n",
       "      <th>T0</th>\n",
       "      <th>T1</th>\n",
       "      <th>s0</th>\n",
       "    </tr>\n",
       "  </thead>\n",
       "  <tbody>\n",
       "    <tr>\n",
       "      <th>0</th>\n",
       "      <td>31648.0</td>\n",
       "      <td>0.000126</td>\n",
       "      <td>0.987456</td>\n",
       "      <td>0.006335</td>\n",
       "      <td>0.993665</td>\n",
       "      <td>0.000173</td>\n",
       "      <td>-38.836823</td>\n",
       "      <td>0.261904</td>\n",
       "      <td>10</td>\n",
       "    </tr>\n",
       "    <tr>\n",
       "      <th>1</th>\n",
       "      <td>31586.0</td>\n",
       "      <td>0.000950</td>\n",
       "      <td>0.974166</td>\n",
       "      <td>0.013392</td>\n",
       "      <td>0.986608</td>\n",
       "      <td>0.001541</td>\n",
       "      <td>-17.513126</td>\n",
       "      <td>0.297626</td>\n",
       "      <td>20</td>\n",
       "    </tr>\n",
       "    <tr>\n",
       "      <th>2</th>\n",
       "      <td>30863.0</td>\n",
       "      <td>0.001555</td>\n",
       "      <td>0.962447</td>\n",
       "      <td>0.019554</td>\n",
       "      <td>0.980446</td>\n",
       "      <td>0.002346</td>\n",
       "      <td>-11.799412</td>\n",
       "      <td>0.297844</td>\n",
       "      <td>30</td>\n",
       "    </tr>\n",
       "    <tr>\n",
       "      <th>3</th>\n",
       "      <td>30558.0</td>\n",
       "      <td>0.002749</td>\n",
       "      <td>0.946201</td>\n",
       "      <td>0.028274</td>\n",
       "      <td>0.971726</td>\n",
       "      <td>0.003899</td>\n",
       "      <td>-7.913212</td>\n",
       "      <td>0.303625</td>\n",
       "      <td>40</td>\n",
       "    </tr>\n",
       "    <tr>\n",
       "      <th>4</th>\n",
       "      <td>30073.0</td>\n",
       "      <td>0.004556</td>\n",
       "      <td>0.932863</td>\n",
       "      <td>0.035846</td>\n",
       "      <td>0.964154</td>\n",
       "      <td>0.006541</td>\n",
       "      <td>-5.987025</td>\n",
       "      <td>0.319884</td>\n",
       "      <td>50</td>\n",
       "    </tr>\n",
       "    <tr>\n",
       "      <th>...</th>\n",
       "      <td>...</td>\n",
       "      <td>...</td>\n",
       "      <td>...</td>\n",
       "      <td>...</td>\n",
       "      <td>...</td>\n",
       "      <td>...</td>\n",
       "      <td>...</td>\n",
       "      <td>...</td>\n",
       "      <td>...</td>\n",
       "    </tr>\n",
       "    <tr>\n",
       "      <th>73</th>\n",
       "      <td>30073.0</td>\n",
       "      <td>0.932863</td>\n",
       "      <td>0.004556</td>\n",
       "      <td>0.964154</td>\n",
       "      <td>0.035846</td>\n",
       "      <td>0.006541</td>\n",
       "      <td>0.319884</td>\n",
       "      <td>-5.987025</td>\n",
       "      <td>750</td>\n",
       "    </tr>\n",
       "    <tr>\n",
       "      <th>74</th>\n",
       "      <td>30558.0</td>\n",
       "      <td>0.946201</td>\n",
       "      <td>0.002749</td>\n",
       "      <td>0.971726</td>\n",
       "      <td>0.028274</td>\n",
       "      <td>0.003899</td>\n",
       "      <td>0.303625</td>\n",
       "      <td>-7.913212</td>\n",
       "      <td>760</td>\n",
       "    </tr>\n",
       "    <tr>\n",
       "      <th>75</th>\n",
       "      <td>30863.0</td>\n",
       "      <td>0.962447</td>\n",
       "      <td>0.001555</td>\n",
       "      <td>0.980446</td>\n",
       "      <td>0.019554</td>\n",
       "      <td>0.002346</td>\n",
       "      <td>0.297844</td>\n",
       "      <td>-11.799412</td>\n",
       "      <td>770</td>\n",
       "    </tr>\n",
       "    <tr>\n",
       "      <th>76</th>\n",
       "      <td>31586.0</td>\n",
       "      <td>0.974166</td>\n",
       "      <td>0.000950</td>\n",
       "      <td>0.986608</td>\n",
       "      <td>0.013392</td>\n",
       "      <td>0.001541</td>\n",
       "      <td>0.297626</td>\n",
       "      <td>-17.513126</td>\n",
       "      <td>780</td>\n",
       "    </tr>\n",
       "    <tr>\n",
       "      <th>77</th>\n",
       "      <td>31648.0</td>\n",
       "      <td>0.987456</td>\n",
       "      <td>0.000126</td>\n",
       "      <td>0.993665</td>\n",
       "      <td>0.006335</td>\n",
       "      <td>0.000173</td>\n",
       "      <td>0.261904</td>\n",
       "      <td>-38.836823</td>\n",
       "      <td>790</td>\n",
       "    </tr>\n",
       "  </tbody>\n",
       "</table>\n",
       "<p>78 rows × 9 columns</p>\n",
       "</div>"
      ],
      "text/plain": [
       "          m        e0        e1        a0        a1         Q         T0  \\\n",
       "0   31648.0  0.000126  0.987456  0.006335  0.993665  0.000173 -38.836823   \n",
       "1   31586.0  0.000950  0.974166  0.013392  0.986608  0.001541 -17.513126   \n",
       "2   30863.0  0.001555  0.962447  0.019554  0.980446  0.002346 -11.799412   \n",
       "3   30558.0  0.002749  0.946201  0.028274  0.971726  0.003899  -7.913212   \n",
       "4   30073.0  0.004556  0.932863  0.035846  0.964154  0.006541  -5.987025   \n",
       "..      ...       ...       ...       ...       ...       ...        ...   \n",
       "73  30073.0  0.932863  0.004556  0.964154  0.035846  0.006541   0.319884   \n",
       "74  30558.0  0.946201  0.002749  0.971726  0.028274  0.003899   0.303625   \n",
       "75  30863.0  0.962447  0.001555  0.980446  0.019554  0.002346   0.297844   \n",
       "76  31586.0  0.974166  0.000950  0.986608  0.013392  0.001541   0.297626   \n",
       "77  31648.0  0.987456  0.000126  0.993665  0.006335  0.000173   0.261904   \n",
       "\n",
       "           T1   s0  \n",
       "0    0.261904   10  \n",
       "1    0.297626   20  \n",
       "2    0.297844   30  \n",
       "3    0.303625   40  \n",
       "4    0.319884   50  \n",
       "..        ...  ...  \n",
       "73  -5.987025  750  \n",
       "74  -7.913212  760  \n",
       "75 -11.799412  770  \n",
       "76 -17.513126  780  \n",
       "77 -38.836823  790  \n",
       "\n",
       "[78 rows x 9 columns]"
      ]
     },
     "execution_count": 240,
     "metadata": {},
     "output_type": "execute_result"
    }
   ],
   "source": [
    "dff = pd.concat([df,df_rev], axis=0).sort_values(\"s0\").reset_index(drop=True)\n",
    "dff"
   ]
  },
  {
   "cell_type": "code",
   "execution_count": 242,
   "id": "80b680af-3e5e-46d2-a433-22f1ab455b0d",
   "metadata": {},
   "outputs": [
    {
     "data": {
      "text/plain": [
       "<matplotlib.legend.Legend at 0x11d3ac250>"
      ]
     },
     "execution_count": 242,
     "metadata": {},
     "output_type": "execute_result"
    },
    {
     "data": {
      "image/png": "[encoded data removed]",
      "text/plain": [
       "<Figure size 432x288 with 1 Axes>"
      ]
     },
     "metadata": {
      "needs_background": "light"
     },
     "output_type": "display_data"
    }
   ],
   "source": [
    "ax = dff.plot(kind=\"scatter\", x=\"s0\", y=\"T0\", color=\"cyan\",ylim=[-0.5, 0.5])\n",
    "dff.plot(kind=\"scatter\", x=\"s0\", y=\"T1\", ax=ax, color=\"orange\")\n",
    "dff.plot(kind=\"scatter\", x=\"s0\", y=\"Q\", ax=ax, color=\"magenta\")\n",
    "ax.legend([\"Smaller Group T\", \"Larger Group T\", \"Q\"])"
   ]
  },
  {
   "cell_type": "code",
   "execution_count": 249,
   "id": "c55ecef8-e868-4535-a1a3-0548d58aca80",
   "metadata": {},
   "outputs": [
    {
     "data": {
      "text/plain": [
       "<matplotlib.legend.Legend at 0x11d6ed640>"
      ]
     },
     "execution_count": 249,
     "metadata": {},
     "output_type": "execute_result"
    },
    {
     "data": {
      "image/png": "[encoded data removed]",
      "text/plain": [
       "<Figure size 432x288 with 1 Axes>"
      ]
     },
     "metadata": {
      "needs_background": "light"
     },
     "output_type": "display_data"
    }
   ],
   "source": [
    "ax = dff.plot(kind=\"scatter\", x=\"s0\", y=\"e0\", ylim=[-0.5, 1.2])\n",
    "dff.plot(kind=\"scatter\", x=\"s0\", y=\"a0\", ax=ax, color=\"orange\")\n",
    "dff.plot(kind=\"scatter\", x=\"s0\", y=\"T0\", ax=ax, color=\"magenta\")\n",
    "dff.plot(kind=\"scatter\", x=\"s0\", y=\"T1\", ax=ax, color=\"lime\")\n",
    "ax.legend([\"e0\", \"a0\", \"T0\", \"T1\"])"
   ]
  },
  {
   "cell_type": "markdown",
   "id": "439fb92e-c3dc-4ff2-bf5f-25158ad24506",
   "metadata": {},
   "source": [
    "# Look at Gamma Values\n",
    "Based on the Newman paper, we expect the optimal weight to make modularity equivalent to the DC-SBM (in terms of maximization) woiuld be \n",
    "\n",
    "$$\\gamma = \\frac{\\omega_{in} - \\omega_{out}}{\\log \\omega_{in} - \\log \\omega_{out}}$$\n",
    "\n",
    "where $\\omega_{in}$ is the total probability of an arbitrary edge being an in-group edge and $\\omega_{out}$ is the total probability of an arbitrary edge being a cross-group edge.  (TODO: how does this generalize when we are not using a planted partition model?)\n",
    "\n",
    "TODO:  Compute gamma and validate that Q is fixed across s0 scores.  Then plug into the multiscale mixing and see if T scores are constant across s0 choices.  If not, what do they look like?  Then test with other setups besides the planted partition model.\n",
    "\n",
    "Wait... CRAZY IDEA!  What if we replace modularity with the full DC-SBM likelihood formula?  Wait would we still even expect the same likelihood?  Let's try the toy version first.  Stick with planted partition.  Just add the damn gamma value."
   ]
  },
  {
   "cell_type": "code",
   "execution_count": 258,
   "id": "7baaa732-74c3-4d8b-80fc-2ef4ce537202",
   "metadata": {},
   "outputs": [
    {
     "data": {
      "text/plain": [
       "0.07213475204444816"
      ]
     },
     "execution_count": 258,
     "metadata": {},
     "output_type": "execute_result"
    }
   ],
   "source": [
    "omega_in = p[0][0]\n",
    "omega_out = p[0][1]\n",
    "\n",
    "gamma = (omega_in - omega_out) / (np.log(omega_in) - np.log(omega_out))\n",
    "gamma"
   ]
  },
  {
   "cell_type": "code",
   "execution_count": 262,
   "id": "1bc7fc6a-aa8a-44d1-8485-713053d9b35f",
   "metadata": {},
   "outputs": [],
   "source": [
    "Q_weighted = dff.e0 - gamma * dff.a0**2 + dff.e1 - gamma * dff.a1**2"
   ]
  },
  {
   "cell_type": "code",
   "execution_count": 267,
   "id": "55736b8c-8c43-46bc-91fe-47d055ca6f72",
   "metadata": {},
   "outputs": [
    {
     "data": {
      "text/plain": [
       "<AxesSubplot:>"
      ]
     },
     "execution_count": 267,
     "metadata": {},
     "output_type": "execute_result"
    },
    {
     "data": {
      "image/png": "[encoded data removed]",
      "text/plain": [
       "<Figure size 432x288 with 1 Axes>"
      ]
     },
     "metadata": {
      "needs_background": "light"
     },
     "output_type": "display_data"
    }
   ],
   "source": [
    "Q_weighted.plot()"
   ]
  },
  {
   "cell_type": "code",
   "execution_count": 265,
   "id": "7f161f4e-18f8-4761-ab97-a1359eae56ac",
   "metadata": {},
   "outputs": [
    {
     "data": {
      "text/plain": [
       "<AxesSubplot:>"
      ]
     },
     "execution_count": 265,
     "metadata": {},
     "output_type": "execute_result"
    },
    {
     "data": {
      "image/png": "[encoded data removed]",
      "text/plain": [
       "<Figure size 432x288 with 1 Axes>"
      ]
     },
     "metadata": {
      "needs_background": "light"
     },
     "output_type": "display_data"
    }
   ],
   "source": [
    "dff.Q.plot()"
   ]
  },
  {
   "cell_type": "code",
   "execution_count": 273,
   "id": "9728b856-dc0b-41c1-9714-eb009268f9ea",
   "metadata": {},
   "outputs": [
    {
     "data": {
      "text/plain": [
       "<AxesSubplot:>"
      ]
     },
     "execution_count": 273,
     "metadata": {},
     "output_type": "execute_result"
    },
    {
     "data": {
      "image/png": "[encoded data removed]",
      "text/plain": [
       "<Figure size 432x288 with 1 Axes>"
      ]
     },
     "metadata": {
      "needs_background": "light"
     },
     "output_type": "display_data"
    }
   ],
   "source": [
    "(dff.e0 - 10*gamma * dff.a0**2 + dff.e1 - 10*gamma * dff.a1**2).plot()"
   ]
  },
  {
   "cell_type": "code",
   "execution_count": 274,
   "id": "50f5f654-6489-4453-b039-b898d60c68af",
   "metadata": {},
   "outputs": [
    {
     "data": {
      "text/plain": [
       "<AxesSubplot:>"
      ]
     },
     "execution_count": 274,
     "metadata": {},
     "output_type": "execute_result"
    },
    {
     "data": {
      "image/png": "[encoded data removed]",
      "text/plain": [
       "<Figure size 432x288 with 1 Axes>"
      ]
     },
     "metadata": {
      "needs_background": "light"
     },
     "output_type": "display_data"
    }
   ],
   "source": [
    "(dff.e0 - 9*gamma * dff.a0**2 + dff.e1 - 9*gamma * dff.a1**2).plot()"
   ]
  },
  {
   "cell_type": "code",
   "execution_count": 275,
   "id": "a977c525-b66b-4858-8e81-1e7e84e55309",
   "metadata": {},
   "outputs": [
    {
     "data": {
      "text/plain": [
       "<AxesSubplot:>"
      ]
     },
     "execution_count": 275,
     "metadata": {},
     "output_type": "execute_result"
    },
    {
     "data": {
      "image/png": "[encoded data removed]",
      "text/plain": [
       "<Figure size 432x288 with 1 Axes>"
      ]
     },
     "metadata": {
      "needs_background": "light"
     },
     "output_type": "display_data"
    }
   ],
   "source": [
    "(dff.e0 - 8*gamma * dff.a0**2 + dff.e1 - 8*gamma * dff.a1**2).plot()"
   ]
  },
  {
   "cell_type": "code",
   "execution_count": 276,
   "id": "0e29049d-79a7-4002-be26-1d035b0970a2",
   "metadata": {
    "tags": []
   },
   "outputs": [
    {
     "data": {
      "text/plain": [
       "<AxesSubplot:>"
      ]
     },
     "execution_count": 276,
     "metadata": {},
     "output_type": "execute_result"
    },
    {
     "data": {
      "image/png": "[encoded data removed]",
      "text/plain": [
       "<Figure size 432x288 with 1 Axes>"
      ]
     },
     "metadata": {
      "needs_background": "light"
     },
     "output_type": "display_data"
    }
   ],
   "source": [
    "(dff.e0 - 11*gamma * dff.a0**2 + dff.e1 - 11*gamma * dff.a1**2).plot()"
   ]
  },
  {
   "cell_type": "markdown",
   "id": "83ee76a6-8fab-433e-b8c5-ae6b7cbc4b32",
   "metadata": {},
   "source": [
    "What DO I think that modularity really means?  I feel like it SHOULD be the same when omega is fixed but class sizes change but why?  My intuition is clearly wrong here.\n",
    "\n",
    "I guess I want to think about how close the mixing matrix is to ones and zeros but this is not a useful metric without some sort of regularization because otherwise the best solution would always be one big community.\n",
    "\n",
    "Okay.  Well suppose we were to actually ditch the modularity altogether and use the DC-SBM here.  How much would the SBM likelihood differ between the locally weighted network and the global network.\n",
    "\n",
    "Wait I guess SBM likelihood isn't what we want either.  That will also differ depending on the class sizes (TODO: Wait will it?)  What we want to ask is how different would the mixing matrix of best fit be?\n",
    "\n",
    "How do we measure distance between mixing matrices?  I dunno.  This feels like something information theory-y involving logarithms.\n",
    "\n",
    "I guess if we are interested in a generalization of assortativity that is based on the mixing matrix, we really want to compare the difference between the diagonal and off-diagonal elements.  This loses a lot of information, but if we don't do this, then we have no way of condensing the information.  Unless... wait nvm.  I think the diagonals are what we want \n",
    "\n",
    "So now we get into some deep philosophical mess about what assortativity really means.\n",
    "\n",
    "Take a big step back.  What is the question I'd ideally like to ask?\n",
    "\n",
    "For each node in a class, what is the probability that it is sampled from the DC-SBM?  If not, does it have a higher lower probability of connecting with others of its own class?\n",
    "\n",
    "# What have I learned so far?\n",
    "\n",
    "Modularity is very sensitive to class imbalances.  Adjusting the resolution parameter alters how modularity responds to class imbalance by altering the penalty for larger clusters.  The impact of the resolution parameter is not always monotonic.  Calculating the distribution of Q given $\\omega_{rs}$ is hard because the terms hidden inside of $a_r$ are not independent of $e_r$ or each other.\n",
    "\n",
    "Multiscale mixing in cases of class imbalance appears to be much more sensitive than modularity to class imbalances, particularly among nodes of the smaller group.\n",
    "\n",
    "Attempting to describe mathematically exactly what is going on will be difficult.  Let's look at dorms in the Facebook 100 (well-known assortativity and interesting local structure) and see if the number of people in the dorm has an impact on the score?"
   ]
  },
  {
   "cell_type": "code",
   "execution_count": null,
   "id": "e863b346-6685-4dd3-b91a-18f90345257a",
   "metadata": {},
   "outputs": [],
   "source": []
  },
  {
   "cell_type": "code",
   "execution_count": null,
   "id": "1175c410-d96c-4b92-8a05-cc238ce75fd2",
   "metadata": {},
   "outputs": [],
   "source": []
  },
  {
   "cell_type": "code",
   "execution_count": null,
   "id": "aa7e526c-73dc-4ef0-9fef-1e38ecc15749",
   "metadata": {},
   "outputs": [],
   "source": []
  },
  {
   "cell_type": "code",
   "execution_count": null,
   "id": "3a6c5387-9abd-44f8-985b-9db1ca163b85",
   "metadata": {},
   "outputs": [],
   "source": []
  },
  {
   "cell_type": "code",
   "execution_count": null,
   "id": "0d8de68f-d146-4c3b-937a-eb6d77f34fb8",
   "metadata": {},
   "outputs": [],
   "source": []
  },
  {
   "cell_type": "code",
   "execution_count": null,
   "id": "8691a049-07ff-4463-ad59-94103a2df41d",
   "metadata": {},
   "outputs": [],
   "source": []
  },
  {
   "cell_type": "code",
   "execution_count": null,
   "id": "8265d3b5-2d8b-4343-94c5-eb20eea5aee3",
   "metadata": {},
   "outputs": [],
   "source": []
  },
  {
   "cell_type": "code",
   "execution_count": null,
   "id": "f1575a4a-517e-4915-9ebc-5338c1f1ccab",
   "metadata": {},
   "outputs": [],
   "source": []
  },
  {
   "cell_type": "code",
   "execution_count": null,
   "id": "ed985a36-c662-4c20-a241-f56170f04a24",
   "metadata": {},
   "outputs": [],
   "source": []
  },
  {
   "cell_type": "code",
   "execution_count": null,
   "id": "f66befc7-7b0b-4cfa-8a9d-49f557058864",
   "metadata": {},
   "outputs": [],
   "source": []
  },
  {
   "cell_type": "code",
   "execution_count": null,
   "id": "5fd64bd7-88e7-4ad5-9282-32060b4f348d",
   "metadata": {},
   "outputs": [],
   "source": []
  },
  {
   "cell_type": "code",
   "execution_count": null,
   "id": "fe74af81-bc24-4963-97d2-d296725bf73e",
   "metadata": {},
   "outputs": [],
   "source": []
  },
  {
   "cell_type": "code",
   "execution_count": null,
   "id": "d3af62fd-38a9-480b-bd3e-954028e8e0c1",
   "metadata": {},
   "outputs": [],
   "source": []
  },
  {
   "cell_type": "code",
   "execution_count": 132,
   "id": "edd1d5ed-f251-4991-bb66-4489cbbb21f4",
   "metadata": {},
   "outputs": [],
   "source": [
    "sizes = [500, 500]\n",
    "p = [[.1,.05], [.05, .1]]\n",
    "G = sbm(sizes, p)\n",
    "E = nx.convert_matrix.to_pandas_edgelist(G).values\n",
    "M = np.hstack([np.zeros(sizes[0]), np.ones(sizes[1])])\n",
    "\n",
    "assortM, assortT, Z = localAssortF(E,M,pr=np.arange(0,1,0.1))\n",
    "\n",
    "# average score for first group\n",
    "T0 = assortT[:sizes[0]].mean()\n",
    "# average score for second group\n",
    "T1 = assortT[sizes[0]:].mean()\n",
    "\n",
    "# mixing score vs. group\n",
    "r = np.corrcoef(assortT, M)[0,1]\n",
    "\n",
    "# modularity of partition\n",
    "A = nx.convert_matrix.to_scipy_sparse_matrix(G)\n",
    "\n",
    "# this is the stub count, or the edge count times 2\n",
    "m2 = A.sum()\n",
    "\n",
    "# intra-community edge density for each group\n",
    "e0 = A[:sizes[0], :sizes[0]].sum() / m2\n",
    "e1 = A[sizes[0]:, sizes[0]:].sum() / m2\n",
    "\n",
    "# degree proportion for each group\n",
    "a0 = A[:sizes[0],:].sum() / m2\n",
    "a1 = A[sizes[0]:,:].sum() / m2\n",
    "\n",
    "# modularity score\n",
    "Q = e0 -a0**2 + e1 - a1**2"
   ]
  },
  {
   "cell_type": "code",
   "execution_count": 135,
   "id": "11cb4a58-5bb1-43fb-9a10-c9b34f34f727",
   "metadata": {},
   "outputs": [],
   "source": [
    "G = sbm(sizes, p)"
   ]
  },
  {
   "cell_type": "code",
   "execution_count": null,
   "id": "4fb4a80c-ad83-4289-b223-7f7ae09a93e6",
   "metadata": {},
   "outputs": [],
   "source": []
  },
  {
   "cell_type": "code",
   "execution_count": null,
   "id": "c3b6bd3c-bf5e-4484-b944-f718c8b1b2d7",
   "metadata": {},
   "outputs": [],
   "source": []
  },
  {
   "cell_type": "code",
   "execution_count": 139,
   "id": "4ddcc693-e0f9-4262-8521-8c149a8f6b6a",
   "metadata": {},
   "outputs": [
    {
     "data": {
      "text/plain": [
       "(37394, 2)"
      ]
     },
     "execution_count": 139,
     "metadata": {},
     "output_type": "execute_result"
    }
   ],
   "source": [
    "E.shape"
   ]
  },
  {
   "cell_type": "code",
   "execution_count": null,
   "id": "3ba3450b-3c33-47d3-b2dd-d2f48af692b8",
   "metadata": {},
   "outputs": [],
   "source": []
  },
  {
   "cell_type": "code",
   "execution_count": null,
   "id": "8a9399a6-0c43-4452-816f-fc00f071140a",
   "metadata": {},
   "outputs": [],
   "source": []
  },
  {
   "cell_type": "code",
   "execution_count": null,
   "id": "6aea4881-31c2-4190-80d2-7975cc544ebf",
   "metadata": {},
   "outputs": [],
   "source": []
  },
  {
   "cell_type": "code",
   "execution_count": null,
   "id": "655a6fcb-52e4-4dff-bc46-c0aed7f718ac",
   "metadata": {},
   "outputs": [],
   "source": []
  },
  {
   "cell_type": "code",
   "execution_count": null,
   "id": "555db2a3-a7f6-4d5f-af33-1a6e9aecf767",
   "metadata": {},
   "outputs": [],
   "source": []
  },
  {
   "cell_type": "code",
   "execution_count": null,
   "id": "494db9f4-380a-4f6a-a608-1461624b3d2f",
   "metadata": {},
   "outputs": [],
   "source": []
  },
  {
   "cell_type": "code",
   "execution_count": 124,
   "id": "5c05fc91-8354-4d28-968d-0173baa804ed",
   "metadata": {},
   "outputs": [
    {
     "name": "stdout",
     "output_type": "stream",
     "text": [
      "0.002899\n"
     ]
    }
   ],
   "source": [
    "A = nx.convert_matrix.to_scipy_sparse_matrix(G)\n",
    "\n",
    "start = datetime.now()\n",
    "# this is the stub count, or the edge count times 2\n",
    "m2 = A.sum()\n",
    "\n",
    "e0 = A[:sizes[0], :sizes[0]].sum() / m2\n",
    "e1 = A[sizes[0]:, sizes[0]:].sum() / m2\n",
    "\n",
    "a0 = A[:sizes[0],:].sum() / (m2)\n",
    "a1 = A[sizes[0]:,:].sum() / (m2)\n",
    "\n",
    "end = datetime.now()\n",
    "print((end - start).total_seconds())"
   ]
  },
  {
   "cell_type": "code",
   "execution_count": 125,
   "id": "66c5e324-ad52-412f-bff9-1e60aff52dfe",
   "metadata": {},
   "outputs": [
    {
     "name": "stdout",
     "output_type": "stream",
     "text": [
      "0.053673\n"
     ]
    }
   ],
   "source": [
    "start = datetime.now()\n",
    "\n",
    "# modularity of partition\n",
    "Q = modularity(G, [\n",
    "    np.arange(sizes[0]), \n",
    "    np.arange(sizes[0], sizes[0] + sizes[1])])\n",
    "\n",
    "end = datetime.now()\n",
    "print((end - start).total_seconds())"
   ]
  },
  {
   "cell_type": "code",
   "execution_count": 127,
   "id": "a8e82201-3c71-430f-af44-6476f1972042",
   "metadata": {},
   "outputs": [
    {
     "name": "stdout",
     "output_type": "stream",
     "text": [
      "0.002671\n"
     ]
    }
   ],
   "source": [
    "A = nx.convert_matrix.to_numpy_matrix(G)\n",
    "\n",
    "start = datetime.now()\n",
    "# this is the stub count, or the edge count times 2\n",
    "m2 = A.sum()\n",
    "\n",
    "e0 = A[:sizes[0], :sizes[0]].sum() / m2\n",
    "e1 = A[sizes[0]:, sizes[0]:].sum() / m2\n",
    "\n",
    "a0 = A[:sizes[0],:].sum() / (m2)\n",
    "a1 = A[sizes[0]:,:].sum() / (m2)\n",
    "\n",
    "end = datetime.now()\n",
    "print((end - start).total_seconds())"
   ]
  },
  {
   "cell_type": "code",
   "execution_count": 122,
   "id": "2deaf61d-333b-4c6d-814e-ad47f184db8a",
   "metadata": {},
   "outputs": [
    {
     "data": {
      "text/plain": [
       "0.16586936567132313"
      ]
     },
     "execution_count": 122,
     "metadata": {},
     "output_type": "execute_result"
    }
   ],
   "source": [
    "Q"
   ]
  },
  {
   "cell_type": "code",
   "execution_count": 106,
   "id": "07d140ee-bbd1-40ff-95c6-0585f5e86898",
   "metadata": {},
   "outputs": [
    {
     "data": {
      "text/plain": [
       "37336"
      ]
     },
     "execution_count": 106,
     "metadata": {},
     "output_type": "execute_result"
    }
   ],
   "source": [
    "len(G.edges())"
   ]
  },
  {
   "cell_type": "code",
   "execution_count": 109,
   "id": "d4c87bf8-4ed8-4c87-bdde-f958f27cffb4",
   "metadata": {},
   "outputs": [
    {
     "data": {
      "text/plain": [
       "37336.0"
      ]
     },
     "execution_count": 109,
     "metadata": {},
     "output_type": "execute_result"
    }
   ],
   "source": [
    "m2  / 2"
   ]
  },
  {
   "cell_type": "code",
   "execution_count": 59,
   "id": "5f028a47-dbb1-4699-b40e-f3aed2929578",
   "metadata": {},
   "outputs": [
    {
     "data": {
      "text/plain": [
       "50136.0"
      ]
     },
     "execution_count": 59,
     "metadata": {},
     "output_type": "execute_result"
    }
   ],
   "source": [
    "A = nx.convert_matrix.to_numpy_array(G)\n",
    "m = M.reshape(1,1000)\n",
    "mask = m.T.dot(m)\n",
    "\n",
    "ma.masked_array(A, mask=mask).sum()"
   ]
  },
  {
   "cell_type": "code",
   "execution_count": 60,
   "id": "c17ae96d-6f3f-4a5c-9c28-c83fa70fce46",
   "metadata": {},
   "outputs": [
    {
     "data": {
      "text/plain": [
       "0.6672522558492374"
      ]
     },
     "execution_count": 60,
     "metadata": {},
     "output_type": "execute_result"
    }
   ],
   "source": [
    "ma.masked_array(A, mask=mask).sum() / A.sum()"
   ]
  },
  {
   "cell_type": "code",
   "execution_count": 51,
   "id": "e20c1837-d9b5-41ee-863d-f590cfc83140",
   "metadata": {},
   "outputs": [
    {
     "data": {
      "text/plain": [
       "0.25"
      ]
     },
     "execution_count": 51,
     "metadata": {},
     "output_type": "execute_result"
    }
   ],
   "source": [
    "mask.sum() / (A.shape[0] * A.shape[1])"
   ]
  },
  {
   "cell_type": "code",
   "execution_count": 49,
   "id": "69f01005-bef9-40f4-ac94-4bc5b8850334",
   "metadata": {},
   "outputs": [
    {
     "data": {
      "text/plain": [
       "(1000, 1000)"
      ]
     },
     "execution_count": 49,
     "metadata": {},
     "output_type": "execute_result"
    }
   ],
   "source": [
    "A.shape"
   ]
  },
  {
   "cell_type": "code",
   "execution_count": 61,
   "id": "379998c5-3aea-439f-881b-de7f3ab6a6d0",
   "metadata": {},
   "outputs": [
    {
     "data": {
      "text/plain": [
       "50028.0"
      ]
     },
     "execution_count": 61,
     "metadata": {},
     "output_type": "execute_result"
    }
   ],
   "source": [
    "mask = (1-m).T.dot(1-m)\n",
    "\n",
    "ma.masked_array(A, mask=mask).sum()"
   ]
  },
  {
   "cell_type": "code",
   "execution_count": 62,
   "id": "d4ce3273-b55f-411c-bb5f-f51363f80ffa",
   "metadata": {},
   "outputs": [
    {
     "data": {
      "text/plain": [
       "0.6658149005829274"
      ]
     },
     "execution_count": 62,
     "metadata": {},
     "output_type": "execute_result"
    }
   ],
   "source": [
    "ma.masked_array(A, mask=mask).sum() / A.sum()"
   ]
  },
  {
   "cell_type": "code",
   "execution_count": 67,
   "id": "2588836d-f91c-4f1b-9c95-a0a4593ed36d",
   "metadata": {},
   "outputs": [
    {
     "data": {
      "text/plain": [
       "1.0"
      ]
     },
     "execution_count": 67,
     "metadata": {},
     "output_type": "execute_result"
    }
   ],
   "source": [
    "m = M.reshape(1,1000)\n",
    "mask1 = m.T.dot(m)\n",
    "mask2 = (1-m).T.dot(1-m)\n",
    "\n",
    "(mask1 + mask2).max()"
   ]
  },
  {
   "cell_type": "code",
   "execution_count": null,
   "id": "c9b00558-0d2d-486b-a038-e6afdd6ec053",
   "metadata": {},
   "outputs": [],
   "source": [
    "sizes = [200, 100]\n",
    "\n",
    "p = [[.1,.05], [.05, .1]]\n",
    "\n",
    "G = sbm(sizes, p)\n",
    "\n",
    "E = nx.convert_matrix.to_pandas_edgelist(G).values\n",
    "M = np.hstack([np.zeros(sizes[0]), np.ones(sizes[1])])\n",
    "\n",
    "assortM, assortT, Z = localAssortF(E,M,pr=np.arange(0,1,0.1))"
   ]
  },
  {
   "cell_type": "code",
   "execution_count": null,
   "id": "88d38b62-168e-4679-954e-9b24ea2ec638",
   "metadata": {},
   "outputs": [],
   "source": []
  },
  {
   "cell_type": "code",
   "execution_count": null,
   "id": "0586b0f0-fbd1-4fe4-bb5b-1983f3cfddc7",
   "metadata": {},
   "outputs": [],
   "source": []
  },
  {
   "cell_type": "code",
   "execution_count": null,
   "id": "43d377a2-e76b-4bea-ae6e-aa7451b4fef8",
   "metadata": {},
   "outputs": [],
   "source": []
  },
  {
   "cell_type": "code",
   "execution_count": null,
   "id": "cb44d929-1602-4699-8e25-635774a0a5d5",
   "metadata": {},
   "outputs": [],
   "source": []
  },
  {
   "cell_type": "code",
   "execution_count": null,
   "id": "ac8cb33f-a69b-4881-8eac-0ff360915310",
   "metadata": {},
   "outputs": [],
   "source": []
  },
  {
   "cell_type": "code",
   "execution_count": null,
   "id": "c9863d5e-c3a2-46d5-ac53-58e4bbd19ebf",
   "metadata": {},
   "outputs": [],
   "source": []
  },
  {
   "cell_type": "code",
   "execution_count": null,
   "id": "6467686d-f0d5-4eb6-8312-a792747cf064",
   "metadata": {},
   "outputs": [],
   "source": []
  },
  {
   "cell_type": "code",
   "execution_count": null,
   "id": "7e0ef88b-44fa-4312-b6e9-37665f9c87ec",
   "metadata": {},
   "outputs": [],
   "source": []
  },
  {
   "cell_type": "code",
   "execution_count": null,
   "id": "b1563e37-42d1-4943-8ba8-10ec98a68fe8",
   "metadata": {},
   "outputs": [],
   "source": []
  },
  {
   "cell_type": "code",
   "execution_count": null,
   "id": "83c37017-3f04-40ae-9796-56ec6c1cf123",
   "metadata": {},
   "outputs": [],
   "source": []
  },
  {
   "cell_type": "code",
   "execution_count": null,
   "id": "c15f060a-955d-4632-9f92-14475c5c2eac",
   "metadata": {},
   "outputs": [],
   "source": []
  }
 ],
 "metadata": {
  "kernelspec": {
   "display_name": "Python 3",
   "language": "python",
   "name": "python3"
  },
  "language_info": {
   "codemirror_mode": {
    "name": "ipython",
    "version": 3
   },
   "file_extension": ".py",
   "mimetype": "text/x-python",
   "name": "python",
   "nbconvert_exporter": "python",
   "pygments_lexer": "ipython3",
   "version": "3.9.5"
  }
 },
 "nbformat": 4,
 "nbformat_minor": 5
}
