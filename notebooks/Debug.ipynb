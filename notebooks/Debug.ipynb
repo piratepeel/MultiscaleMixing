{
 "cells": [
  {
   "cell_type": "markdown",
   "id": "d9fad4d8-b151-4807-bdc5-2196c63486eb",
   "metadata": {},
   "source": [
    "Why  do multiscale mixing scores seem to go down to -inf when from the paper it seems like they should be between 0 and 1?  Let's take a network with a very negative multiscale mixing score and figure out what's happening."
   ]
  },
  {
   "cell_type": "code",
   "execution_count": 1,
   "id": "609e9c64-d8de-4745-a844-a1e55c5f6b10",
   "metadata": {},
   "outputs": [],
   "source": [
    "from datetime import datetime\n",
    "from lassort.localassort import calculateRWRrange\n",
    "import networkx as nx\n",
    "import numpy as np\n",
    "import pandas as pd\n",
    "\n",
    "from networkx.generators.community import stochastic_block_model as sbm\n",
    "from networkx.algorithms.community import modularity\n",
    "from matplotlib import pyplot as plt\n",
    "import scipy.sparse as sparse"
   ]
  },
  {
   "cell_type": "code",
   "execution_count": 14,
   "id": "e32a3b00-2b9b-4f85-8773-3869267b1b9e",
   "metadata": {},
   "outputs": [],
   "source": [
    "N = 800\n",
    "p = [[.1,.05], [.05, .1]]\n",
    "s0 = 20\n",
    "\n",
    "sizes = [s0, N - s0]\n",
    "G = sbm(sizes, p)\n",
    "A = nx.convert_matrix.to_scipy_sparse_matrix(G)\n",
    "edgelist = nx.convert_matrix.to_pandas_edgelist(G).values\n",
    "node_attr = np.hstack([np.zeros(sizes[0]), np.ones(sizes[1])])\n",
    "\n",
    "missingValue = -1"
   ]
  },
  {
   "cell_type": "code",
   "execution_count": 21,
   "id": "7e0a57d6-e882-4b3f-af16-8f3b91d13480",
   "metadata": {},
   "outputs": [],
   "source": [
    "\n",
    "\n",
    "# number of nodes\n",
    "n = len(node_attr)\n",
    "# number od nodes with complete attribute\n",
    "ncomp = (node_attr != missingValue).sum()\n",
    "# number of edges\n",
    "m = len(edgelist)\n",
    "degree = np.array(A.sum(1)).flatten()\n",
    "\n",
    "D = sparse.diags(1./degree, 0, format='csc')\n",
    "W = D @ A # every row sums  to 1\n",
    "\n",
    "c = len(np.unique(node_attr))"
   ]
  },
  {
   "cell_type": "code",
   "execution_count": 22,
   "id": "0918b5fc-3daf-44e8-b1b8-f4f58346ff3e",
   "metadata": {},
   "outputs": [],
   "source": [
    "# calculate node weights for how \"complete\" the\n",
    "# metadata is around the node\n",
    "Z = np.zeros(n)\n",
    "Z[node_attr == missingValue] = 1.\n",
    "Z = (W @ Z) / degree\n",
    "\n",
    "# indicator array if node has attribute data (or missing)\n",
    "hasAttribute = node_attr != missingValue\n"
   ]
  },
  {
   "cell_type": "code",
   "execution_count": 35,
   "id": "ce4e8d6d-4503-42b3-934d-7b10abee2764",
   "metadata": {},
   "outputs": [],
   "source": [
    "# calculate global expected values\n",
    "values = np.ones(ncomp)\n",
    "yi = (hasAttribute).nonzero()[0]\n",
    "yj = node_attr[hasAttribute]\n",
    "Y = sparse.coo_matrix((values, (yi, yj)), shape=(n, c)).tocsc()\n",
    "eij_glob = np.array(Y.T @ (A @ Y).todense())\n",
    "eij_glob /= np.sum(eij_glob)\n",
    "ab_glob = np.sum(eij_glob.sum(1)*eij_glob.sum(0)) # this is ar^2 for undirected"
   ]
  },
  {
   "cell_type": "code",
   "execution_count": 36,
   "id": "7955fcae-d12d-4585-9815-aede45165d3b",
   "metadata": {},
   "outputs": [
    {
     "data": {
      "text/plain": [
       "0.9758403120359327"
      ]
     },
     "execution_count": 36,
     "metadata": {},
     "output_type": "execute_result"
    }
   ],
   "source": [
    "ab_glob"
   ]
  },
  {
   "cell_type": "code",
   "execution_count": 37,
   "id": "c442cbaf-2731-4647-b6fa-accef943f2e0",
   "metadata": {},
   "outputs": [
    {
     "data": {
      "text/plain": [
       "array([[5.49273021e-04, 1.16801292e-02],\n",
       "       [1.16801292e-02, 9.76090468e-01]])"
      ]
     },
     "execution_count": 37,
     "metadata": {},
     "output_type": "execute_result"
    }
   ],
   "source": [
    "eij_glob"
   ]
  },
  {
   "cell_type": "code",
   "execution_count": 40,
   "id": "215a2a63-f6e6-4436-98f0-9b377c2873c8",
   "metadata": {},
   "outputs": [],
   "source": [
    "pr=np.arange(0., 1., 0.1)\n",
    "\n",
    "assortM = np.empty((n, len(pr)))\n",
    "assortT = np.empty(n)"
   ]
  },
  {
   "cell_type": "code",
   "execution_count": 48,
   "id": "ac72f8fb-18fe-4e87-b72a-02220853a1b1",
   "metadata": {},
   "outputs": [
    {
     "data": {
      "text/plain": [
       "(800, 2)"
      ]
     },
     "execution_count": 48,
     "metadata": {},
     "output_type": "execute_result"
    }
   ],
   "source": [
    "WY = (W @ Y).tocsc()\n",
    "WY.shape"
   ]
  },
  {
   "cell_type": "code",
   "execution_count": 50,
   "id": "3dccc7f0-338d-49b5-b23c-dd83f449bbe2",
   "metadata": {},
   "outputs": [
    {
     "data": {
      "text/plain": [
       "matrix([[0.0625    , 0.9375    ],\n",
       "        [0.02564103, 0.97435897],\n",
       "        [0.        , 1.        ],\n",
       "        ...,\n",
       "        [0.03529412, 0.96470588],\n",
       "        [0.        , 1.        ],\n",
       "        [0.        , 1.        ]])"
      ]
     },
     "execution_count": 50,
     "metadata": {},
     "output_type": "execute_result"
    }
   ],
   "source": [
    "# WY[:,0] contains fraction of neighbors in grp 0\n",
    "# likewise for 1\n",
    "WY.todense()"
   ]
  },
  {
   "cell_type": "code",
   "execution_count": 63,
   "id": "df144644-b877-483c-8c41-a4064e02acfb",
   "metadata": {},
   "outputs": [],
   "source": [
    "i = 0\n",
    "\n",
    "# calculate for first node\n",
    "pis, ti, it = calculateRWRrange(W, i, pr, n)\n",
    "if len(pr) > 1:\n",
    "    for ii, pri in enumerate(pr):\n",
    "        pi = pis[:, ii]\n",
    "\n",
    "        YPI = sparse.coo_matrix((pi[hasAttribute],\n",
    "                                (node_attr[hasAttribute],\n",
    "                                 np.arange(n)[hasAttribute])),\n",
    "                                shape=(c, n)).tocsr()\n",
    "\n",
    "        trace_e = (YPI.dot(WY).toarray()).trace()\n",
    "        assortM[i, ii] = trace_e"
   ]
  },
  {
   "cell_type": "code",
   "execution_count": 65,
   "id": "dc219de9-420d-42f0-b0c3-ea0cb1f3be8e",
   "metadata": {},
   "outputs": [
    {
     "data": {
      "text/plain": [
       "array([0.0625    , 0.1488576 , 0.23614159, 0.32441839, 0.41375813,\n",
       "       0.50423497, 0.59592735, 0.68891832, 0.78329582, 0.87915296])"
      ]
     },
     "execution_count": 65,
     "metadata": {},
     "output_type": "execute_result"
    }
   ],
   "source": [
    "assortM[0]"
   ]
  },
  {
   "cell_type": "code",
   "execution_count": 66,
   "id": "82984116-a55f-4121-a1f3-2ccd19d567c1",
   "metadata": {},
   "outputs": [],
   "source": [
    "# this looks normal.  Let's run 'em all\n",
    "for i in range(n):\n",
    "    pis, ti, it = calculateRWRrange(W, i, pr, n)\n",
    "    if len(pr) > 1:\n",
    "        for ii, pri in enumerate(pr):\n",
    "            pi = pis[:, ii]\n",
    "\n",
    "            YPI = sparse.coo_matrix((pi[hasAttribute],\n",
    "                                    (node_attr[hasAttribute],\n",
    "                                     np.arange(n)[hasAttribute])),\n",
    "                                    shape=(c, n)).tocsr()\n",
    "\n",
    "            trace_e = (YPI.dot(WY).toarray()).trace()\n",
    "            assortM[i, ii] = trace_e\n",
    "\n",
    "    YPI = sparse.coo_matrix((ti[hasAttribute], (node_attr[hasAttribute],\n",
    "                            np.arange(n)[hasAttribute])),\n",
    "                            shape=(c, n)).tocsr()\n",
    "    e_gh = (YPI @ WY).toarray()\n",
    "    e_gh_sum = e_gh.sum()\n",
    "    Z[i] = e_gh_sum\n",
    "    e_gh /= e_gh_sum\n",
    "    trace_e = e_gh.trace()\n",
    "    assortT[i] = trace_e\n"
   ]
  },
  {
   "cell_type": "code",
   "execution_count": 68,
   "id": "a34305ee-6e2d-4bbe-89a5-aeca92d27514",
   "metadata": {},
   "outputs": [
    {
     "data": {
      "text/plain": [
       "0.0"
      ]
     },
     "execution_count": 68,
     "metadata": {},
     "output_type": "execute_result"
    }
   ],
   "source": [
    "assortM.min()"
   ]
  },
  {
   "cell_type": "code",
   "execution_count": 70,
   "id": "e40bb47a-2cd2-4a56-8e12-ab3ffb910405",
   "metadata": {},
   "outputs": [
    {
     "data": {
      "text/plain": [
       "0.48685940553871526"
      ]
     },
     "execution_count": 70,
     "metadata": {},
     "output_type": "execute_result"
    }
   ],
   "source": [
    "assortT.min()"
   ]
  },
  {
   "cell_type": "code",
   "execution_count": 71,
   "id": "59529891-5481-4118-9d98-ed9b2115fc77",
   "metadata": {},
   "outputs": [
    {
     "data": {
      "text/plain": [
       "0.9758403120359327"
      ]
     },
     "execution_count": 71,
     "metadata": {},
     "output_type": "execute_result"
    }
   ],
   "source": [
    "ab_glob"
   ]
  },
  {
   "cell_type": "code",
   "execution_count": 72,
   "id": "4508ed31-be03-4297-8688-0fcb6c44453e",
   "metadata": {},
   "outputs": [
    {
     "data": {
      "text/plain": [
       "-0.4889809064972174"
      ]
     },
     "execution_count": 72,
     "metadata": {},
     "output_type": "execute_result"
    }
   ],
   "source": [
    "assortT -= ab_glob\n",
    "assortT.min()"
   ]
  },
  {
   "cell_type": "code",
   "execution_count": 73,
   "id": "2016aa37-7dfd-4d6b-b867-616bdb61f551",
   "metadata": {},
   "outputs": [
    {
     "data": {
      "text/plain": [
       "-20.239537332786682"
      ]
     },
     "execution_count": 73,
     "metadata": {},
     "output_type": "execute_result"
    }
   ],
   "source": [
    "np.divide(assortT, 1.-ab_glob, out=assortT, where=ab_glob != 0)\n",
    "assortT.min()"
   ]
  },
  {
   "cell_type": "code",
   "execution_count": 78,
   "id": "d52cf819-b43a-45d0-a3b9-38c47be61865",
   "metadata": {},
   "outputs": [
    {
     "data": {
      "text/plain": [
       "-0.4889809064972174"
      ]
     },
     "execution_count": 78,
     "metadata": {},
     "output_type": "execute_result"
    }
   ],
   "source": [
    "(assortT*(1-ab_glob)).min()"
   ]
  },
  {
   "cell_type": "code",
   "execution_count": 79,
   "id": "67061b44-a9ef-4083-922a-fc82c23a07ca",
   "metadata": {},
   "outputs": [
    {
     "data": {
      "text/plain": [
       "0.015322391735874241"
      ]
     },
     "execution_count": 79,
     "metadata": {},
     "output_type": "execute_result"
    }
   ],
   "source": [
    "(assortT*(1-ab_glob)).max()"
   ]
  },
  {
   "cell_type": "code",
   "execution_count": 80,
   "id": "d617de2d-a032-4843-afee-5acefbef72b9",
   "metadata": {},
   "outputs": [
    {
     "data": {
      "text/plain": [
       "(array([0., 0., 0., 0., 0., 0., 0., 0., 0., 0., 0., 0., 0., 0., 0., 0., 0.,\n",
       "        0., 0., 0., 0., 0., 0., 0., 0., 1., 0., 0., 0., 0., 0., 0., 0., 0.,\n",
       "        0., 0., 0., 0., 0., 0., 0., 0., 0., 0., 0., 0., 0., 0., 0., 0.]),\n",
       " array([-0.48467761, -0.46467761, -0.44467761, -0.42467761, -0.40467761,\n",
       "        -0.38467761, -0.36467761, -0.34467761, -0.32467761, -0.30467761,\n",
       "        -0.28467761, -0.26467761, -0.24467761, -0.22467761, -0.20467761,\n",
       "        -0.18467761, -0.16467761, -0.14467761, -0.12467761, -0.10467761,\n",
       "        -0.08467761, -0.06467761, -0.04467761, -0.02467761, -0.00467761,\n",
       "         0.01532239,  0.03532239,  0.05532239,  0.07532239,  0.09532239,\n",
       "         0.11532239,  0.13532239,  0.15532239,  0.17532239,  0.19532239,\n",
       "         0.21532239,  0.23532239,  0.25532239,  0.27532239,  0.29532239,\n",
       "         0.31532239,  0.33532239,  0.35532239,  0.37532239,  0.39532239,\n",
       "         0.41532239,  0.43532239,  0.45532239,  0.47532239,  0.49532239,\n",
       "         0.51532239]),\n",
       " <BarContainer object of 50 artists>)"
      ]
     },
     "execution_count": 80,
     "metadata": {},
     "output_type": "execute_result"
    },
    {
     "data": {
      "image/png": "[encoded data removed]",
      "text/plain": [
       "<Figure size 432x288 with 1 Axes>"
      ]
     },
     "metadata": {
      "needs_background": "light"
     },
     "output_type": "display_data"
    }
   ],
   "source": [
    "plt.hist((assortT*(1-ab_glob)).max(), bins=50)"
   ]
  },
  {
   "cell_type": "markdown",
   "id": "dec7b180-a7ca-4f08-ba43-53d72a396c4f",
   "metadata": {},
   "source": [
    "Okay we found it!  It's this line where things get crazy  negative.  Why are we doing this?\n",
    "\n",
    "This is the 1/Qmax in the paper.  As the largest group gets close to the whole thing, this number gets very tiny.\n",
    "\n",
    "Okay, this makes sense but isn't directly useful.  If we don't divide everything by Qmax, the score distribution is shifted by a constant but it doesn't change the relative values of nodes.\n",
    "\n",
    "WAIT or does it?!?!?!?!?\n",
    "\n",
    "Within a fixed network with a fixed partition, Qmax is a constant.  The relative values from within different groups will not be effected.  However, with this modified planted partition model, Qmax does change with every shift in partition.\n",
    "\n",
    "The question of why are smaller dorms less assortative wouldn't be helped here I think.  But at least I understand the bias of that experiment.\n",
    "\n",
    "What happens if we use the SBM as a null model instead of the configuration model.  How many internal vs. external edges are we seeing in the neighborhood of this node relative to what we would expect to see if the whole network were evenly mixed?\n",
    "\n",
    "Then we end up with scores that quantify deviation from the norm but don't give a flavor of whether the neighborhodd is assortative or dissassortative overall.\n",
    "\n",
    "What do I want here?\n",
    "\n",
    "A score that can be interpreted between networks?"
   ]
  },
  {
   "cell_type": "code",
   "execution_count": null,
   "id": "79350b6f-a924-46be-b5dc-ab974cfd03ab",
   "metadata": {},
   "outputs": [],
   "source": []
  },
  {
   "cell_type": "code",
   "execution_count": null,
   "id": "0c691375-9c5f-44bb-90d1-047e4a39fd16",
   "metadata": {},
   "outputs": [],
   "source": []
  },
  {
   "cell_type": "code",
   "execution_count": 44,
   "id": "02718d32-f2c6-48b4-806d-219d940d34f1",
   "metadata": {},
   "outputs": [
    {
     "data": {
      "text/plain": [
       "array([ 1, -1])"
      ]
     },
     "execution_count": 44,
     "metadata": {},
     "output_type": "execute_result"
    }
   ],
   "source": [
    "a = np.array([[1,2], [2,1]])\n",
    "b = np.array([-1, 1])\n",
    "\n",
    "a @ b"
   ]
  },
  {
   "cell_type": "code",
   "execution_count": 47,
   "id": "46e847e6-d184-4452-845b-a140bb13683b",
   "metadata": {},
   "outputs": [
    {
     "data": {
      "text/plain": [
       "array([ 1, -1])"
      ]
     },
     "execution_count": 47,
     "metadata": {},
     "output_type": "execute_result"
    }
   ],
   "source": [
    "b.dot(a)"
   ]
  }
 ],
 "metadata": {
  "kernelspec": {
   "display_name": "Python 3",
   "language": "python",
   "name": "python3"
  },
  "language_info": {
   "codemirror_mode": {
    "name": "ipython",
    "version": 3
   },
   "file_extension": ".py",
   "mimetype": "text/x-python",
   "name": "python",
   "nbconvert_exporter": "python",
   "pygments_lexer": "ipython3",
   "version": "3.9.5"
  }
 },
 "nbformat": 4,
 "nbformat_minor": 5
}
